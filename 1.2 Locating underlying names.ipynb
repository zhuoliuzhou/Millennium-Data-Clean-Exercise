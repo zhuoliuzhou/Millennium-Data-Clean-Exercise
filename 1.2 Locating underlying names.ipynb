{
 "cells": [
  {
   "cell_type": "markdown",
   "id": "1a949c63",
   "metadata": {},
   "source": [
    "# 1.2 Locate the name of the asset"
   ]
  },
  {
   "cell_type": "markdown",
   "id": "af70e1aa",
   "metadata": {},
   "source": [
    "I also tried to locate the asset name of the sample dataset so that I can find the real data to fill the dataset’s missing values. Hinted from the description “a well-known broad market ETF”, I first try collect the data for the top ETFs from website (https://stockmarketmba.com/listoftop100etfs.php) saved as csv file named “List of Top 100 ETFs.xlsx”. Only thing we need is column A - symbols. "
   ]
  },
  {
   "cell_type": "code",
   "execution_count": 1,
   "id": "c7373627",
   "metadata": {},
   "outputs": [],
   "source": [
    "import yfinance as yf\n",
    "import numpy as np\n",
    "import pandas as pd"
   ]
  },
  {
   "cell_type": "code",
   "execution_count": 2,
   "id": "5864b7de",
   "metadata": {},
   "outputs": [
    {
     "data": {
      "text/plain": [
       "array(['SPY', 'IVV', 'VTI', 'VOO', 'QQQ', 'VEA', 'IEFA', 'AGG', 'VWO',\n",
       "       'VTV'], dtype='<U4')"
      ]
     },
     "execution_count": 2,
     "metadata": {},
     "output_type": "execute_result"
    }
   ],
   "source": [
    "ETF_list = pd.read_excel('List of Top 100 ETFs.xlsx', usecols = ['Symbol'])\n",
    "ETF_list = np.array(ETF_list['Symbol'].tolist())\n",
    "ETF_list[:10]"
   ]
  },
  {
   "cell_type": "markdown",
   "id": "a1e03cfd",
   "metadata": {},
   "source": [
    "Below downloads the historical prices of the 100 ETFs from 1Jan2015 to 31Jan2021, which covers the sample data's dates, saved as csv file named “Prices for 100ETFs 19Nov2015-06Jan2020.csv”"
   ]
  },
  {
   "cell_type": "code",
   "execution_count": 3,
   "id": "619a5f86",
   "metadata": {},
   "outputs": [],
   "source": [
    "ETFdata = pd.DataFrame()\n",
    "start_date = '2015-11-01'\n",
    "end_date = '2020-01-31'"
   ]
  },
  {
   "cell_type": "code",
   "execution_count": 4,
   "id": "b465b4ca",
   "metadata": {},
   "outputs": [],
   "source": [
    "for ticker in ETF_list:\n",
    "    ticker_holder = yf.Ticker(ticker)\n",
    "    temp_data = ticker_holder.history(start = start_date,end = end_date,\n",
    "                                      auto_adjust = False)\n",
    "    temp_data = temp_data[['Close']]\n",
    "    temp_data = temp_data.rename({'Close': ticker}, axis='columns')\n",
    "    ETFdata = pd.concat([ETFdata,temp_data], axis = 1, join = 'outer')"
   ]
  },
  {
   "cell_type": "code",
   "execution_count": 5,
   "id": "0e2b375c",
   "metadata": {},
   "outputs": [],
   "source": [
    "data = ETFdata['2015-11-19':'2020-01-06']"
   ]
  },
  {
   "cell_type": "code",
   "execution_count": 6,
   "id": "b97f931d",
   "metadata": {},
   "outputs": [
    {
     "data": {
      "text/html": [
       "<div>\n",
       "<style scoped>\n",
       "    .dataframe tbody tr th:only-of-type {\n",
       "        vertical-align: middle;\n",
       "    }\n",
       "\n",
       "    .dataframe tbody tr th {\n",
       "        vertical-align: top;\n",
       "    }\n",
       "\n",
       "    .dataframe thead th {\n",
       "        text-align: right;\n",
       "    }\n",
       "</style>\n",
       "<table border=\"1\" class=\"dataframe\">\n",
       "  <thead>\n",
       "    <tr style=\"text-align: right;\">\n",
       "      <th></th>\n",
       "      <th>SPY</th>\n",
       "      <th>IVV</th>\n",
       "      <th>VTI</th>\n",
       "      <th>VOO</th>\n",
       "      <th>QQQ</th>\n",
       "      <th>VEA</th>\n",
       "      <th>IEFA</th>\n",
       "      <th>AGG</th>\n",
       "      <th>VWO</th>\n",
       "      <th>VTV</th>\n",
       "    </tr>\n",
       "    <tr>\n",
       "      <th>Date</th>\n",
       "      <th></th>\n",
       "      <th></th>\n",
       "      <th></th>\n",
       "      <th></th>\n",
       "      <th></th>\n",
       "      <th></th>\n",
       "      <th></th>\n",
       "      <th></th>\n",
       "      <th></th>\n",
       "      <th></th>\n",
       "    </tr>\n",
       "  </thead>\n",
       "  <tbody>\n",
       "    <tr>\n",
       "      <th>2015-11-19</th>\n",
       "      <td>208.550003</td>\n",
       "      <td>209.669998</td>\n",
       "      <td>106.760002</td>\n",
       "      <td>191.220001</td>\n",
       "      <td>113.709999</td>\n",
       "      <td>38.009998</td>\n",
       "      <td>56.209999</td>\n",
       "      <td>108.690002</td>\n",
       "      <td>34.919998</td>\n",
       "      <td>83.110001</td>\n",
       "    </tr>\n",
       "    <tr>\n",
       "      <th>2015-11-20</th>\n",
       "      <td>209.309998</td>\n",
       "      <td>210.619995</td>\n",
       "      <td>107.220001</td>\n",
       "      <td>191.929993</td>\n",
       "      <td>114.480003</td>\n",
       "      <td>37.930000</td>\n",
       "      <td>56.070000</td>\n",
       "      <td>108.620003</td>\n",
       "      <td>35.220001</td>\n",
       "      <td>83.169998</td>\n",
       "    </tr>\n",
       "    <tr>\n",
       "      <th>2015-11-23</th>\n",
       "      <td>209.070007</td>\n",
       "      <td>210.220001</td>\n",
       "      <td>107.110001</td>\n",
       "      <td>191.710007</td>\n",
       "      <td>114.150002</td>\n",
       "      <td>37.700001</td>\n",
       "      <td>55.730000</td>\n",
       "      <td>108.650002</td>\n",
       "      <td>34.930000</td>\n",
       "      <td>83.019997</td>\n",
       "    </tr>\n",
       "    <tr>\n",
       "      <th>2015-11-24</th>\n",
       "      <td>209.350006</td>\n",
       "      <td>210.520004</td>\n",
       "      <td>107.389999</td>\n",
       "      <td>192.020004</td>\n",
       "      <td>114.050003</td>\n",
       "      <td>37.750000</td>\n",
       "      <td>55.720001</td>\n",
       "      <td>108.750000</td>\n",
       "      <td>35.020000</td>\n",
       "      <td>83.250000</td>\n",
       "    </tr>\n",
       "    <tr>\n",
       "      <th>2015-11-25</th>\n",
       "      <td>209.320007</td>\n",
       "      <td>210.529999</td>\n",
       "      <td>107.470001</td>\n",
       "      <td>191.960007</td>\n",
       "      <td>114.150002</td>\n",
       "      <td>37.810001</td>\n",
       "      <td>55.840000</td>\n",
       "      <td>108.800003</td>\n",
       "      <td>34.750000</td>\n",
       "      <td>83.150002</td>\n",
       "    </tr>\n",
       "  </tbody>\n",
       "</table>\n",
       "</div>"
      ],
      "text/plain": [
       "                   SPY         IVV         VTI         VOO         QQQ  \\\n",
       "Date                                                                     \n",
       "2015-11-19  208.550003  209.669998  106.760002  191.220001  113.709999   \n",
       "2015-11-20  209.309998  210.619995  107.220001  191.929993  114.480003   \n",
       "2015-11-23  209.070007  210.220001  107.110001  191.710007  114.150002   \n",
       "2015-11-24  209.350006  210.520004  107.389999  192.020004  114.050003   \n",
       "2015-11-25  209.320007  210.529999  107.470001  191.960007  114.150002   \n",
       "\n",
       "                  VEA       IEFA         AGG        VWO        VTV  \n",
       "Date                                                                \n",
       "2015-11-19  38.009998  56.209999  108.690002  34.919998  83.110001  \n",
       "2015-11-20  37.930000  56.070000  108.620003  35.220001  83.169998  \n",
       "2015-11-23  37.700001  55.730000  108.650002  34.930000  83.019997  \n",
       "2015-11-24  37.750000  55.720001  108.750000  35.020000  83.250000  \n",
       "2015-11-25  37.810001  55.840000  108.800003  34.750000  83.150002  "
      ]
     },
     "execution_count": 6,
     "metadata": {},
     "output_type": "execute_result"
    }
   ],
   "source": [
    "data.iloc[:,:10].head()"
   ]
  },
  {
   "cell_type": "code",
   "execution_count": 7,
   "id": "6039912e",
   "metadata": {},
   "outputs": [],
   "source": [
    "data.to_csv('Prices for 100ETFs 19Nov2015-06Jan2020.csv')"
   ]
  },
  {
   "cell_type": "markdown",
   "id": "f8c3c53f",
   "metadata": {},
   "source": [
    "Then need to find if there is a match in this 100 ETFs."
   ]
  },
  {
   "cell_type": "code",
   "execution_count": 8,
   "id": "35cde9db",
   "metadata": {},
   "outputs": [
    {
     "data": {
      "text/html": [
       "<div>\n",
       "<style scoped>\n",
       "    .dataframe tbody tr th:only-of-type {\n",
       "        vertical-align: middle;\n",
       "    }\n",
       "\n",
       "    .dataframe tbody tr th {\n",
       "        vertical-align: top;\n",
       "    }\n",
       "\n",
       "    .dataframe thead th {\n",
       "        text-align: right;\n",
       "    }\n",
       "</style>\n",
       "<table border=\"1\" class=\"dataframe\">\n",
       "  <thead>\n",
       "    <tr style=\"text-align: right;\">\n",
       "      <th></th>\n",
       "      <th>Sample</th>\n",
       "    </tr>\n",
       "    <tr>\n",
       "      <th>Date</th>\n",
       "      <th></th>\n",
       "    </tr>\n",
       "  </thead>\n",
       "  <tbody>\n",
       "    <tr>\n",
       "      <th>2015-11-19</th>\n",
       "      <td>116.059998</td>\n",
       "    </tr>\n",
       "    <tr>\n",
       "      <th>2015-11-20</th>\n",
       "      <td>116.809998</td>\n",
       "    </tr>\n",
       "    <tr>\n",
       "      <th>2015-11-23</th>\n",
       "      <td>117.389999</td>\n",
       "    </tr>\n",
       "    <tr>\n",
       "      <th>2015-11-24</th>\n",
       "      <td>118.250000</td>\n",
       "    </tr>\n",
       "    <tr>\n",
       "      <th>2015-11-25</th>\n",
       "      <td>119.169998</td>\n",
       "    </tr>\n",
       "  </tbody>\n",
       "</table>\n",
       "</div>"
      ],
      "text/plain": [
       "                Sample\n",
       "Date                  \n",
       "2015-11-19  116.059998\n",
       "2015-11-20  116.809998\n",
       "2015-11-23  117.389999\n",
       "2015-11-24  118.250000\n",
       "2015-11-25  119.169998"
      ]
     },
     "execution_count": 8,
     "metadata": {},
     "output_type": "execute_result"
    }
   ],
   "source": [
    "sample = pd.read_csv('Sample Dataset_corrected.csv')\n",
    "sample.loc[:,'Date']=pd.to_datetime(sample['Date'])\n",
    "sample.set_index('Date',inplace = True)\n",
    "sample_close = sample[['Close']]\n",
    "sample_close = sample_close.rename({'Close':'Sample'}, axis='columns')\n",
    "sample_close.head()"
   ]
  },
  {
   "cell_type": "code",
   "execution_count": 9,
   "id": "bf6c4d8a",
   "metadata": {},
   "outputs": [
    {
     "data": {
      "text/html": [
       "<div>\n",
       "<style scoped>\n",
       "    .dataframe tbody tr th:only-of-type {\n",
       "        vertical-align: middle;\n",
       "    }\n",
       "\n",
       "    .dataframe tbody tr th {\n",
       "        vertical-align: top;\n",
       "    }\n",
       "\n",
       "    .dataframe thead th {\n",
       "        text-align: right;\n",
       "    }\n",
       "</style>\n",
       "<table border=\"1\" class=\"dataframe\">\n",
       "  <thead>\n",
       "    <tr style=\"text-align: right;\">\n",
       "      <th></th>\n",
       "      <th>IWS</th>\n",
       "      <th>MINT</th>\n",
       "      <th>XLC</th>\n",
       "      <th>IEF</th>\n",
       "      <th>Sample</th>\n",
       "    </tr>\n",
       "    <tr>\n",
       "      <th>Date</th>\n",
       "      <th></th>\n",
       "      <th></th>\n",
       "      <th></th>\n",
       "      <th></th>\n",
       "      <th></th>\n",
       "    </tr>\n",
       "  </thead>\n",
       "  <tbody>\n",
       "    <tr>\n",
       "      <th>2015-11-19</th>\n",
       "      <td>70.970001</td>\n",
       "      <td>100.849998</td>\n",
       "      <td>NaN</td>\n",
       "      <td>106.089996</td>\n",
       "      <td>116.059998</td>\n",
       "    </tr>\n",
       "    <tr>\n",
       "      <th>2015-11-20</th>\n",
       "      <td>71.129997</td>\n",
       "      <td>100.860001</td>\n",
       "      <td>NaN</td>\n",
       "      <td>105.949997</td>\n",
       "      <td>116.809998</td>\n",
       "    </tr>\n",
       "    <tr>\n",
       "      <th>2015-11-23</th>\n",
       "      <td>71.209999</td>\n",
       "      <td>100.839996</td>\n",
       "      <td>NaN</td>\n",
       "      <td>106.089996</td>\n",
       "      <td>117.389999</td>\n",
       "    </tr>\n",
       "    <tr>\n",
       "      <th>2015-11-24</th>\n",
       "      <td>71.510002</td>\n",
       "      <td>100.860001</td>\n",
       "      <td>NaN</td>\n",
       "      <td>106.190002</td>\n",
       "      <td>118.250000</td>\n",
       "    </tr>\n",
       "    <tr>\n",
       "      <th>2015-11-25</th>\n",
       "      <td>71.500000</td>\n",
       "      <td>100.870003</td>\n",
       "      <td>NaN</td>\n",
       "      <td>106.250000</td>\n",
       "      <td>119.169998</td>\n",
       "    </tr>\n",
       "  </tbody>\n",
       "</table>\n",
       "</div>"
      ],
      "text/plain": [
       "                  IWS        MINT  XLC         IEF      Sample\n",
       "Date                                                          \n",
       "2015-11-19  70.970001  100.849998  NaN  106.089996  116.059998\n",
       "2015-11-20  71.129997  100.860001  NaN  105.949997  116.809998\n",
       "2015-11-23  71.209999  100.839996  NaN  106.089996  117.389999\n",
       "2015-11-24  71.510002  100.860001  NaN  106.190002  118.250000\n",
       "2015-11-25  71.500000  100.870003  NaN  106.250000  119.169998"
      ]
     },
     "execution_count": 9,
     "metadata": {},
     "output_type": "execute_result"
    }
   ],
   "source": [
    "new_data = pd.concat([data,sample_close], axis = 1, join = 'outer')\n",
    "new_data.iloc[:,-5:].head()"
   ]
  },
  {
   "cell_type": "code",
   "execution_count": 10,
   "id": "0de9776d",
   "metadata": {},
   "outputs": [
    {
     "data": {
      "text/html": [
       "<div>\n",
       "<style scoped>\n",
       "    .dataframe tbody tr th:only-of-type {\n",
       "        vertical-align: middle;\n",
       "    }\n",
       "\n",
       "    .dataframe tbody tr th {\n",
       "        vertical-align: top;\n",
       "    }\n",
       "\n",
       "    .dataframe thead th {\n",
       "        text-align: right;\n",
       "    }\n",
       "</style>\n",
       "<table border=\"1\" class=\"dataframe\">\n",
       "  <thead>\n",
       "    <tr style=\"text-align: right;\">\n",
       "      <th></th>\n",
       "      <th>IWS</th>\n",
       "      <th>MINT</th>\n",
       "      <th>XLC</th>\n",
       "      <th>IEF</th>\n",
       "      <th>Sample</th>\n",
       "    </tr>\n",
       "    <tr>\n",
       "      <th>Date</th>\n",
       "      <th></th>\n",
       "      <th></th>\n",
       "      <th></th>\n",
       "      <th></th>\n",
       "      <th></th>\n",
       "    </tr>\n",
       "  </thead>\n",
       "  <tbody>\n",
       "    <tr>\n",
       "      <th>2015-11-19</th>\n",
       "      <td>-45.089997</td>\n",
       "      <td>-15.210000</td>\n",
       "      <td>NaN</td>\n",
       "      <td>-9.970002</td>\n",
       "      <td>0.0</td>\n",
       "    </tr>\n",
       "    <tr>\n",
       "      <th>2015-11-20</th>\n",
       "      <td>-45.680001</td>\n",
       "      <td>-15.949997</td>\n",
       "      <td>NaN</td>\n",
       "      <td>-10.860001</td>\n",
       "      <td>0.0</td>\n",
       "    </tr>\n",
       "    <tr>\n",
       "      <th>2015-11-23</th>\n",
       "      <td>-46.180000</td>\n",
       "      <td>-16.550003</td>\n",
       "      <td>NaN</td>\n",
       "      <td>-11.300003</td>\n",
       "      <td>0.0</td>\n",
       "    </tr>\n",
       "    <tr>\n",
       "      <th>2015-11-24</th>\n",
       "      <td>-46.739998</td>\n",
       "      <td>-17.389999</td>\n",
       "      <td>NaN</td>\n",
       "      <td>-12.059998</td>\n",
       "      <td>0.0</td>\n",
       "    </tr>\n",
       "    <tr>\n",
       "      <th>2015-11-25</th>\n",
       "      <td>-47.669998</td>\n",
       "      <td>-18.299995</td>\n",
       "      <td>NaN</td>\n",
       "      <td>-12.919998</td>\n",
       "      <td>0.0</td>\n",
       "    </tr>\n",
       "  </tbody>\n",
       "</table>\n",
       "</div>"
      ],
      "text/plain": [
       "                  IWS       MINT  XLC        IEF  Sample\n",
       "Date                                                    \n",
       "2015-11-19 -45.089997 -15.210000  NaN  -9.970002     0.0\n",
       "2015-11-20 -45.680001 -15.949997  NaN -10.860001     0.0\n",
       "2015-11-23 -46.180000 -16.550003  NaN -11.300003     0.0\n",
       "2015-11-24 -46.739998 -17.389999  NaN -12.059998     0.0\n",
       "2015-11-25 -47.669998 -18.299995  NaN -12.919998     0.0"
      ]
     },
     "execution_count": 10,
     "metadata": {},
     "output_type": "execute_result"
    }
   ],
   "source": [
    "diff_frame = new_data.sub(new_data['Sample'].tolist(),axis = 'index')\n",
    "diff_frame.iloc[:,-5:].head()"
   ]
  },
  {
   "cell_type": "code",
   "execution_count": 11,
   "id": "a3766209",
   "metadata": {},
   "outputs": [
    {
     "data": {
      "text/plain": [
       "IWM       1019\n",
       "VO           2\n",
       "IWB          1\n",
       "Sample    1038\n",
       "dtype: int64"
      ]
     },
     "execution_count": 11,
     "metadata": {},
     "output_type": "execute_result"
    }
   ],
   "source": [
    "diff_series = (np.round(diff_frame - 0, decimals=5)==0).sum(axis = 'index')\n",
    "diff_series[diff_series>0]"
   ]
  },
  {
   "cell_type": "code",
   "execution_count": 12,
   "id": "fb2a91ce",
   "metadata": {},
   "outputs": [
    {
     "data": {
      "text/html": [
       "<div>\n",
       "<style scoped>\n",
       "    .dataframe tbody tr th:only-of-type {\n",
       "        vertical-align: middle;\n",
       "    }\n",
       "\n",
       "    .dataframe tbody tr th {\n",
       "        vertical-align: top;\n",
       "    }\n",
       "\n",
       "    .dataframe thead th {\n",
       "        text-align: right;\n",
       "    }\n",
       "</style>\n",
       "<table border=\"1\" class=\"dataframe\">\n",
       "  <thead>\n",
       "    <tr style=\"text-align: right;\">\n",
       "      <th></th>\n",
       "      <th>Open</th>\n",
       "      <th>High</th>\n",
       "      <th>Low</th>\n",
       "      <th>Close</th>\n",
       "      <th>Adj Close</th>\n",
       "      <th>Volume</th>\n",
       "      <th>Dividends</th>\n",
       "      <th>Stock Splits</th>\n",
       "    </tr>\n",
       "    <tr>\n",
       "      <th>Date</th>\n",
       "      <th></th>\n",
       "      <th></th>\n",
       "      <th></th>\n",
       "      <th></th>\n",
       "      <th></th>\n",
       "      <th></th>\n",
       "      <th></th>\n",
       "      <th></th>\n",
       "    </tr>\n",
       "  </thead>\n",
       "  <tbody>\n",
       "    <tr>\n",
       "      <th>2015-11-19</th>\n",
       "      <td>116.440002</td>\n",
       "      <td>116.650002</td>\n",
       "      <td>115.739998</td>\n",
       "      <td>116.059998</td>\n",
       "      <td>107.580505</td>\n",
       "      <td>25512500</td>\n",
       "      <td>0.0</td>\n",
       "      <td>0</td>\n",
       "    </tr>\n",
       "    <tr>\n",
       "      <th>2015-11-20</th>\n",
       "      <td>116.480003</td>\n",
       "      <td>117.360001</td>\n",
       "      <td>116.379997</td>\n",
       "      <td>116.809998</td>\n",
       "      <td>108.275726</td>\n",
       "      <td>31697700</td>\n",
       "      <td>0.0</td>\n",
       "      <td>0</td>\n",
       "    </tr>\n",
       "    <tr>\n",
       "      <th>2015-11-23</th>\n",
       "      <td>116.709999</td>\n",
       "      <td>117.889999</td>\n",
       "      <td>116.680000</td>\n",
       "      <td>117.389999</td>\n",
       "      <td>108.813324</td>\n",
       "      <td>22716400</td>\n",
       "      <td>0.0</td>\n",
       "      <td>0</td>\n",
       "    </tr>\n",
       "    <tr>\n",
       "      <th>2015-11-24</th>\n",
       "      <td>116.879997</td>\n",
       "      <td>118.419998</td>\n",
       "      <td>116.559998</td>\n",
       "      <td>118.250000</td>\n",
       "      <td>109.610512</td>\n",
       "      <td>24994500</td>\n",
       "      <td>0.0</td>\n",
       "      <td>0</td>\n",
       "    </tr>\n",
       "    <tr>\n",
       "      <th>2015-11-25</th>\n",
       "      <td>118.300003</td>\n",
       "      <td>119.320000</td>\n",
       "      <td>118.110001</td>\n",
       "      <td>119.169998</td>\n",
       "      <td>110.463310</td>\n",
       "      <td>20772600</td>\n",
       "      <td>0.0</td>\n",
       "      <td>0</td>\n",
       "    </tr>\n",
       "  </tbody>\n",
       "</table>\n",
       "</div>"
      ],
      "text/plain": [
       "                  Open        High         Low       Close   Adj Close  \\\n",
       "Date                                                                     \n",
       "2015-11-19  116.440002  116.650002  115.739998  116.059998  107.580505   \n",
       "2015-11-20  116.480003  117.360001  116.379997  116.809998  108.275726   \n",
       "2015-11-23  116.709999  117.889999  116.680000  117.389999  108.813324   \n",
       "2015-11-24  116.879997  118.419998  116.559998  118.250000  109.610512   \n",
       "2015-11-25  118.300003  119.320000  118.110001  119.169998  110.463310   \n",
       "\n",
       "              Volume  Dividends  Stock Splits  \n",
       "Date                                           \n",
       "2015-11-19  25512500        0.0             0  \n",
       "2015-11-20  31697700        0.0             0  \n",
       "2015-11-23  22716400        0.0             0  \n",
       "2015-11-24  24994500        0.0             0  \n",
       "2015-11-25  20772600        0.0             0  "
      ]
     },
     "execution_count": 12,
     "metadata": {},
     "output_type": "execute_result"
    }
   ],
   "source": [
    "#get IWM full data\n",
    "ticker = 'IWM'\n",
    "a = yf.Ticker(ticker)\n",
    "iwm = a.history(start=start_date, end = end_date, auto_adjust = False)\n",
    "iwm = iwm['2015-11-19':'2020-01-06']\n",
    "iwm.head()"
   ]
  },
  {
   "cell_type": "code",
   "execution_count": 13,
   "id": "1b1e79ed",
   "metadata": {},
   "outputs": [
    {
     "data": {
      "text/plain": [
       "Open     -5.15999\n",
       "High      0.46997\n",
       "Low      18.41996\n",
       "Close    32.28998\n",
       "dtype: float64"
      ]
     },
     "execution_count": 13,
     "metadata": {},
     "output_type": "execute_result"
    }
   ],
   "source": [
    "diff_df = iwm.loc[:,'Open':'Close'] - sample.loc[:,'Open':'Close']\n",
    "diff_df.round(5).sum()"
   ]
  },
  {
   "cell_type": "markdown",
   "id": "6511ed16",
   "metadata": {},
   "source": [
    "So **IWM is the underlying asset**. I will use it to evaluate the efficacy of the signals."
   ]
  },
  {
   "cell_type": "code",
   "execution_count": 14,
   "id": "863a6207",
   "metadata": {},
   "outputs": [],
   "source": [
    "iwm.to_csv('IWM 19Nov2015-06Jan2020.csv')"
   ]
  }
 ],
 "metadata": {
  "kernelspec": {
   "display_name": "Python 3 (ipykernel)",
   "language": "python",
   "name": "python3"
  },
  "language_info": {
   "codemirror_mode": {
    "name": "ipython",
    "version": 3
   },
   "file_extension": ".py",
   "mimetype": "text/x-python",
   "name": "python",
   "nbconvert_exporter": "python",
   "pygments_lexer": "ipython3",
   "version": "3.8.8"
  }
 },
 "nbformat": 4,
 "nbformat_minor": 5
}
