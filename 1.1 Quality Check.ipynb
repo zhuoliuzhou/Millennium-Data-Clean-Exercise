{
 "cells": [
  {
   "cell_type": "markdown",
   "id": "7565227c",
   "metadata": {},
   "source": [
    "## Zhuo Liuzhou, 30Jul2021"
   ]
  },
  {
   "cell_type": "markdown",
   "id": "c7e01331",
   "metadata": {},
   "source": [
    "# 1.1\tReview the quality of the data, list any potential errors, and propose corrected values. Please list each quality check error and correction applied."
   ]
  },
  {
   "cell_type": "code",
   "execution_count": 1,
   "id": "988defbe",
   "metadata": {},
   "outputs": [],
   "source": [
    "import numpy as np\n",
    "import pandas as pd\n",
    "import matplotlib.pyplot as plt\n",
    "import os\n",
    "import datetime\n",
    "import holidays\n",
    "import yfinance as yf\n",
    "pd.options.mode.chained_assignment = None"
   ]
  },
  {
   "cell_type": "code",
   "execution_count": 2,
   "id": "918dc7ed",
   "metadata": {},
   "outputs": [
    {
     "data": {
      "text/html": [
       "<div>\n",
       "<style scoped>\n",
       "    .dataframe tbody tr th:only-of-type {\n",
       "        vertical-align: middle;\n",
       "    }\n",
       "\n",
       "    .dataframe tbody tr th {\n",
       "        vertical-align: top;\n",
       "    }\n",
       "\n",
       "    .dataframe thead th {\n",
       "        text-align: right;\n",
       "    }\n",
       "</style>\n",
       "<table border=\"1\" class=\"dataframe\">\n",
       "  <thead>\n",
       "    <tr style=\"text-align: right;\">\n",
       "      <th></th>\n",
       "      <th>Date</th>\n",
       "      <th>Signal</th>\n",
       "      <th>Open</th>\n",
       "      <th>High</th>\n",
       "      <th>Low</th>\n",
       "      <th>Close</th>\n",
       "      <th>Adj Close</th>\n",
       "    </tr>\n",
       "  </thead>\n",
       "  <tbody>\n",
       "    <tr>\n",
       "      <th>1</th>\n",
       "      <td>2015-11-19</td>\n",
       "      <td>13.768540</td>\n",
       "      <td>116.440002</td>\n",
       "      <td>116.650002</td>\n",
       "      <td>115.739998</td>\n",
       "      <td>116.059998</td>\n",
       "      <td>108.281601</td>\n",
       "    </tr>\n",
       "    <tr>\n",
       "      <th>2</th>\n",
       "      <td>2015-11-20</td>\n",
       "      <td>13.608819</td>\n",
       "      <td>116.480003</td>\n",
       "      <td>117.360001</td>\n",
       "      <td>116.379997</td>\n",
       "      <td>116.809998</td>\n",
       "      <td>108.981323</td>\n",
       "    </tr>\n",
       "    <tr>\n",
       "      <th>3</th>\n",
       "      <td>2015-11-23</td>\n",
       "      <td>12.990589</td>\n",
       "      <td>116.709999</td>\n",
       "      <td>117.889999</td>\n",
       "      <td>116.680000</td>\n",
       "      <td>117.389999</td>\n",
       "      <td>109.522453</td>\n",
       "    </tr>\n",
       "    <tr>\n",
       "      <th>4</th>\n",
       "      <td>2015-11-24</td>\n",
       "      <td>12.667435</td>\n",
       "      <td>116.879997</td>\n",
       "      <td>118.419998</td>\n",
       "      <td>116.559998</td>\n",
       "      <td>118.250000</td>\n",
       "      <td>110.324837</td>\n",
       "    </tr>\n",
       "    <tr>\n",
       "      <th>5</th>\n",
       "      <td>2015-11-25</td>\n",
       "      <td>13.019910</td>\n",
       "      <td>118.300003</td>\n",
       "      <td>119.320000</td>\n",
       "      <td>118.110001</td>\n",
       "      <td>119.169998</td>\n",
       "      <td>111.183159</td>\n",
       "    </tr>\n",
       "  </tbody>\n",
       "</table>\n",
       "</div>"
      ],
      "text/plain": [
       "        Date     Signal        Open        High         Low       Close  \\\n",
       "1 2015-11-19  13.768540  116.440002  116.650002  115.739998  116.059998   \n",
       "2 2015-11-20  13.608819  116.480003  117.360001  116.379997  116.809998   \n",
       "3 2015-11-23  12.990589  116.709999  117.889999  116.680000  117.389999   \n",
       "4 2015-11-24  12.667435  116.879997  118.419998  116.559998  118.250000   \n",
       "5 2015-11-25  13.019910  118.300003  119.320000  118.110001  119.169998   \n",
       "\n",
       "    Adj Close  \n",
       "1  108.281601  \n",
       "2  108.981323  \n",
       "3  109.522453  \n",
       "4  110.324837  \n",
       "5  111.183159  "
      ]
     },
     "execution_count": 2,
     "metadata": {},
     "output_type": "execute_result"
    }
   ],
   "source": [
    "sample = pd.read_excel('Sample Dataset.xlsx')\n",
    "sample.index = range(1,len(sample)+1)\n",
    "sample.head()"
   ]
  },
  {
   "cell_type": "code",
   "execution_count": 3,
   "id": "76250f32",
   "metadata": {},
   "outputs": [
    {
     "data": {
      "text/html": [
       "<div>\n",
       "<style scoped>\n",
       "    .dataframe tbody tr th:only-of-type {\n",
       "        vertical-align: middle;\n",
       "    }\n",
       "\n",
       "    .dataframe tbody tr th {\n",
       "        vertical-align: top;\n",
       "    }\n",
       "\n",
       "    .dataframe thead th {\n",
       "        text-align: right;\n",
       "    }\n",
       "</style>\n",
       "<table border=\"1\" class=\"dataframe\">\n",
       "  <thead>\n",
       "    <tr style=\"text-align: right;\">\n",
       "      <th></th>\n",
       "      <th>Signal</th>\n",
       "      <th>Open</th>\n",
       "      <th>High</th>\n",
       "      <th>Low</th>\n",
       "      <th>Close</th>\n",
       "      <th>Adj Close</th>\n",
       "    </tr>\n",
       "  </thead>\n",
       "  <tbody>\n",
       "    <tr>\n",
       "      <th>count</th>\n",
       "      <td>1038.000000</td>\n",
       "      <td>1038.000000</td>\n",
       "      <td>1038.000000</td>\n",
       "      <td>1038.000000</td>\n",
       "      <td>1038.000000</td>\n",
       "      <td>1038.000000</td>\n",
       "    </tr>\n",
       "    <tr>\n",
       "      <th>mean</th>\n",
       "      <td>16.766190</td>\n",
       "      <td>141.847360</td>\n",
       "      <td>142.691801</td>\n",
       "      <td>140.907746</td>\n",
       "      <td>141.840973</td>\n",
       "      <td>136.341060</td>\n",
       "    </tr>\n",
       "    <tr>\n",
       "      <th>std</th>\n",
       "      <td>3.095783</td>\n",
       "      <td>18.475574</td>\n",
       "      <td>18.470255</td>\n",
       "      <td>18.404504</td>\n",
       "      <td>18.497010</td>\n",
       "      <td>21.427837</td>\n",
       "    </tr>\n",
       "    <tr>\n",
       "      <th>min</th>\n",
       "      <td>0.000000</td>\n",
       "      <td>94.080002</td>\n",
       "      <td>95.400002</td>\n",
       "      <td>93.639999</td>\n",
       "      <td>94.790001</td>\n",
       "      <td>-152.277847</td>\n",
       "    </tr>\n",
       "    <tr>\n",
       "      <th>25%</th>\n",
       "      <td>14.691150</td>\n",
       "      <td>132.132496</td>\n",
       "      <td>132.912495</td>\n",
       "      <td>130.542503</td>\n",
       "      <td>131.824993</td>\n",
       "      <td>125.290491</td>\n",
       "    </tr>\n",
       "    <tr>\n",
       "      <th>50%</th>\n",
       "      <td>17.298240</td>\n",
       "      <td>146.769997</td>\n",
       "      <td>147.959999</td>\n",
       "      <td>145.634995</td>\n",
       "      <td>146.885002</td>\n",
       "      <td>142.667732</td>\n",
       "    </tr>\n",
       "    <tr>\n",
       "      <th>75%</th>\n",
       "      <td>19.030890</td>\n",
       "      <td>155.367496</td>\n",
       "      <td>156.287495</td>\n",
       "      <td>154.422500</td>\n",
       "      <td>155.289993</td>\n",
       "      <td>151.798325</td>\n",
       "    </tr>\n",
       "    <tr>\n",
       "      <th>max</th>\n",
       "      <td>35.434147</td>\n",
       "      <td>172.789993</td>\n",
       "      <td>173.389999</td>\n",
       "      <td>171.949997</td>\n",
       "      <td>196.279999</td>\n",
       "      <td>168.842270</td>\n",
       "    </tr>\n",
       "  </tbody>\n",
       "</table>\n",
       "</div>"
      ],
      "text/plain": [
       "            Signal         Open         High          Low        Close  \\\n",
       "count  1038.000000  1038.000000  1038.000000  1038.000000  1038.000000   \n",
       "mean     16.766190   141.847360   142.691801   140.907746   141.840973   \n",
       "std       3.095783    18.475574    18.470255    18.404504    18.497010   \n",
       "min       0.000000    94.080002    95.400002    93.639999    94.790001   \n",
       "25%      14.691150   132.132496   132.912495   130.542503   131.824993   \n",
       "50%      17.298240   146.769997   147.959999   145.634995   146.885002   \n",
       "75%      19.030890   155.367496   156.287495   154.422500   155.289993   \n",
       "max      35.434147   172.789993   173.389999   171.949997   196.279999   \n",
       "\n",
       "         Adj Close  \n",
       "count  1038.000000  \n",
       "mean    136.341060  \n",
       "std      21.427837  \n",
       "min    -152.277847  \n",
       "25%     125.290491  \n",
       "50%     142.667732  \n",
       "75%     151.798325  \n",
       "max     168.842270  "
      ]
     },
     "execution_count": 3,
     "metadata": {},
     "output_type": "execute_result"
    }
   ],
   "source": [
    "sample.describe()"
   ]
  },
  {
   "cell_type": "markdown",
   "id": "13edaea8",
   "metadata": {},
   "source": [
    "one can easily find that **“Adj Close” contain negative value**, and **max of “Close” is larger than max of “High”** both of which are impossible in real market, will address this error in below health checks."
   ]
  },
  {
   "cell_type": "markdown",
   "id": "8ad7fa30",
   "metadata": {},
   "source": [
    "I did below health checks:  \n",
    "$~~~~$(1).\tNo missing signals or prices  \n",
    "$~~~~$(2).\tDates are correct:  \n",
    "$~~~~~~~~~$a.\tNo duplicate dates  \n",
    "$~~~~~~~~~$b.\tDates are ordered  \n",
    "$~~~~~~~~~$c.\tNo weekends   \n",
    "$~~~~~~~~~$d.\tNo public holidays  \n",
    "$~~~~~~~~~$e.\tNo missing workdays  \n",
    "$~~~~$(3).\tAll prices look right:  \n",
    "$~~~~~~~~~$a.\tAll prices are positive  \n",
    "$~~~~~~~~~$b.\t“Low” < (“Open”, “Close”) < “High” for each day  \n",
    "$~~~~~~~~~$c.  “Adj Close” looks right  \n",
    "$~~~~$(4).\tSignal Outliers  \n",
    "  \n",
    "And the errors and correction are listed below, noted that the correction will be done after the checks to consider interaction between errors."
   ]
  },
  {
   "cell_type": "markdown",
   "id": "5556e176",
   "metadata": {},
   "source": [
    "# (1)\tNo Null signals or prices."
   ]
  },
  {
   "cell_type": "code",
   "execution_count": 4,
   "id": "72dd612c",
   "metadata": {},
   "outputs": [
    {
     "data": {
      "text/plain": [
       "Date         False\n",
       "Signal       False\n",
       "Open         False\n",
       "High         False\n",
       "Low          False\n",
       "Close        False\n",
       "Adj Close    False\n",
       "dtype: bool"
      ]
     },
     "execution_count": 4,
     "metadata": {},
     "output_type": "execute_result"
    }
   ],
   "source": [
    "sample.isnull().any(axis = 0)"
   ]
  },
  {
   "cell_type": "markdown",
   "id": "2174f07a",
   "metadata": {},
   "source": [
    "# (2) Dates:"
   ]
  },
  {
   "cell_type": "markdown",
   "id": "ab5806f5",
   "metadata": {},
   "source": [
    "## a. No duplicate dates"
   ]
  },
  {
   "cell_type": "code",
   "execution_count": 5,
   "id": "a934aa5d",
   "metadata": {},
   "outputs": [
    {
     "data": {
      "text/plain": [
       "True"
      ]
     },
     "execution_count": 5,
     "metadata": {},
     "output_type": "execute_result"
    }
   ],
   "source": [
    "len(sample['Date'].unique()) == len(sample['Date'])"
   ]
  },
  {
   "cell_type": "markdown",
   "id": "fc7018c9",
   "metadata": {},
   "source": [
    "## b. Dates are in ascending order"
   ]
  },
  {
   "cell_type": "code",
   "execution_count": 6,
   "id": "898b3184",
   "metadata": {},
   "outputs": [
    {
     "data": {
      "text/plain": [
       "True"
      ]
     },
     "execution_count": 6,
     "metadata": {},
     "output_type": "execute_result"
    }
   ],
   "source": [
    "dateDiff = (sample['Date'].diff())[1:]\n",
    "all([d.days >0 for d in dateDiff])"
   ]
  },
  {
   "cell_type": "markdown",
   "id": "1cbc827e",
   "metadata": {},
   "source": [
    "## c. Weekends"
   ]
  },
  {
   "cell_type": "code",
   "execution_count": 7,
   "id": "0708628a",
   "metadata": {},
   "outputs": [
    {
     "data": {
      "text/plain": [
       "[Timestamp('2018-05-19 00:00:00'),\n",
       " Timestamp('2018-05-20 00:00:00'),\n",
       " Timestamp('2018-06-23 00:00:00'),\n",
       " Timestamp('2018-06-24 00:00:00')]"
      ]
     },
     "execution_count": 7,
     "metadata": {},
     "output_type": "execute_result"
    }
   ],
   "source": [
    "weekends_index = []\n",
    "weekends = []\n",
    "for i in sample.index:\n",
    "    if pd.Timestamp.weekday(sample.loc[i,'Date'])>4:\n",
    "        weekends.append(sample.loc[i,'Date'])\n",
    "        weekends_index.append(i)\n",
    "weekends"
   ]
  },
  {
   "cell_type": "markdown",
   "id": "e318174e",
   "metadata": {},
   "source": [
    "**The data has 4 records on weekends**"
   ]
  },
  {
   "cell_type": "code",
   "execution_count": 8,
   "id": "2a7e6b0b",
   "metadata": {},
   "outputs": [
    {
     "data": {
      "text/html": [
       "<div>\n",
       "<style scoped>\n",
       "    .dataframe tbody tr th:only-of-type {\n",
       "        vertical-align: middle;\n",
       "    }\n",
       "\n",
       "    .dataframe tbody tr th {\n",
       "        vertical-align: top;\n",
       "    }\n",
       "\n",
       "    .dataframe thead th {\n",
       "        text-align: right;\n",
       "    }\n",
       "</style>\n",
       "<table border=\"1\" class=\"dataframe\">\n",
       "  <thead>\n",
       "    <tr style=\"text-align: right;\">\n",
       "      <th></th>\n",
       "      <th>Date</th>\n",
       "      <th>Signal</th>\n",
       "      <th>Open</th>\n",
       "      <th>High</th>\n",
       "      <th>Low</th>\n",
       "      <th>Close</th>\n",
       "      <th>Adj Close</th>\n",
       "    </tr>\n",
       "  </thead>\n",
       "  <tbody>\n",
       "    <tr>\n",
       "      <th>630</th>\n",
       "      <td>2018-05-19</td>\n",
       "      <td>20.448445</td>\n",
       "      <td>162.369995</td>\n",
       "      <td>163.240005</td>\n",
       "      <td>162.360001</td>\n",
       "      <td>162.940002</td>\n",
       "      <td>157.493622</td>\n",
       "    </tr>\n",
       "    <tr>\n",
       "      <th>631</th>\n",
       "      <td>2018-05-20</td>\n",
       "      <td>19.483907</td>\n",
       "      <td>163.259995</td>\n",
       "      <td>163.330002</td>\n",
       "      <td>161.630005</td>\n",
       "      <td>161.759995</td>\n",
       "      <td>156.352997</td>\n",
       "    </tr>\n",
       "    <tr>\n",
       "      <th>632</th>\n",
       "      <td>2018-05-21</td>\n",
       "      <td>19.031457</td>\n",
       "      <td>162.369995</td>\n",
       "      <td>163.240005</td>\n",
       "      <td>162.360001</td>\n",
       "      <td>162.940002</td>\n",
       "      <td>157.493622</td>\n",
       "    </tr>\n",
       "    <tr>\n",
       "      <th>633</th>\n",
       "      <td>2018-05-22</td>\n",
       "      <td>19.823488</td>\n",
       "      <td>163.259995</td>\n",
       "      <td>163.330002</td>\n",
       "      <td>161.630005</td>\n",
       "      <td>161.759995</td>\n",
       "      <td>156.352997</td>\n",
       "    </tr>\n",
       "  </tbody>\n",
       "</table>\n",
       "</div>"
      ],
      "text/plain": [
       "          Date     Signal        Open        High         Low       Close  \\\n",
       "630 2018-05-19  20.448445  162.369995  163.240005  162.360001  162.940002   \n",
       "631 2018-05-20  19.483907  163.259995  163.330002  161.630005  161.759995   \n",
       "632 2018-05-21  19.031457  162.369995  163.240005  162.360001  162.940002   \n",
       "633 2018-05-22  19.823488  163.259995  163.330002  161.630005  161.759995   \n",
       "\n",
       "      Adj Close  \n",
       "630  157.493622  \n",
       "631  156.352997  \n",
       "632  157.493622  \n",
       "633  156.352997  "
      ]
     },
     "execution_count": 8,
     "metadata": {},
     "output_type": "execute_result"
    }
   ],
   "source": [
    "sample.loc[weekends_index[0]:weekends_index[1]+2]"
   ]
  },
  {
   "cell_type": "code",
   "execution_count": 9,
   "id": "0ccbbf3c",
   "metadata": {},
   "outputs": [
    {
     "data": {
      "text/html": [
       "<div>\n",
       "<style scoped>\n",
       "    .dataframe tbody tr th:only-of-type {\n",
       "        vertical-align: middle;\n",
       "    }\n",
       "\n",
       "    .dataframe tbody tr th {\n",
       "        vertical-align: top;\n",
       "    }\n",
       "\n",
       "    .dataframe thead th {\n",
       "        text-align: right;\n",
       "    }\n",
       "</style>\n",
       "<table border=\"1\" class=\"dataframe\">\n",
       "  <thead>\n",
       "    <tr style=\"text-align: right;\">\n",
       "      <th></th>\n",
       "      <th>Date</th>\n",
       "      <th>Signal</th>\n",
       "      <th>Open</th>\n",
       "      <th>High</th>\n",
       "      <th>Low</th>\n",
       "      <th>Close</th>\n",
       "      <th>Adj Close</th>\n",
       "    </tr>\n",
       "  </thead>\n",
       "  <tbody>\n",
       "    <tr>\n",
       "      <th>656</th>\n",
       "      <td>2018-06-23</td>\n",
       "      <td>18.995502</td>\n",
       "      <td>167.240005</td>\n",
       "      <td>167.369995</td>\n",
       "      <td>164.139999</td>\n",
       "      <td>165.080002</td>\n",
       "      <td>159.562042</td>\n",
       "    </tr>\n",
       "    <tr>\n",
       "      <th>657</th>\n",
       "      <td>2018-06-24</td>\n",
       "      <td>20.274163</td>\n",
       "      <td>165.229996</td>\n",
       "      <td>166.660004</td>\n",
       "      <td>164.850006</td>\n",
       "      <td>166.039993</td>\n",
       "      <td>160.489944</td>\n",
       "    </tr>\n",
       "    <tr>\n",
       "      <th>658</th>\n",
       "      <td>2018-06-25</td>\n",
       "      <td>21.123096</td>\n",
       "      <td>167.240005</td>\n",
       "      <td>167.369995</td>\n",
       "      <td>164.139999</td>\n",
       "      <td>165.080002</td>\n",
       "      <td>159.562042</td>\n",
       "    </tr>\n",
       "    <tr>\n",
       "      <th>659</th>\n",
       "      <td>2018-06-26</td>\n",
       "      <td>20.198530</td>\n",
       "      <td>165.229996</td>\n",
       "      <td>166.660004</td>\n",
       "      <td>164.850006</td>\n",
       "      <td>166.039993</td>\n",
       "      <td>160.489944</td>\n",
       "    </tr>\n",
       "  </tbody>\n",
       "</table>\n",
       "</div>"
      ],
      "text/plain": [
       "          Date     Signal        Open        High         Low       Close  \\\n",
       "656 2018-06-23  18.995502  167.240005  167.369995  164.139999  165.080002   \n",
       "657 2018-06-24  20.274163  165.229996  166.660004  164.850006  166.039993   \n",
       "658 2018-06-25  21.123096  167.240005  167.369995  164.139999  165.080002   \n",
       "659 2018-06-26  20.198530  165.229996  166.660004  164.850006  166.039993   \n",
       "\n",
       "      Adj Close  \n",
       "656  159.562042  \n",
       "657  160.489944  \n",
       "658  159.562042  \n",
       "659  160.489944  "
      ]
     },
     "execution_count": 9,
     "metadata": {},
     "output_type": "execute_result"
    }
   ],
   "source": [
    "sample.loc[weekends_index[2]:weekends_index[3]+2]"
   ]
  },
  {
   "cell_type": "markdown",
   "id": "48245639",
   "metadata": {},
   "source": [
    "From above can see those prices are the **same as next two workdays, correction is to remove these signals and prices.**"
   ]
  },
  {
   "cell_type": "markdown",
   "id": "44e0b689",
   "metadata": {},
   "source": [
    "## d. Public holidays"
   ]
  },
  {
   "cell_type": "code",
   "execution_count": 10,
   "id": "e3597815",
   "metadata": {},
   "outputs": [],
   "source": [
    "pub_hol_index = []\n",
    "pub_hol = []\n",
    "us_holidays = pd.read_excel('US mkt holidays.xlsx')\n",
    "us_holidays = us_holidays['Date'].tolist()"
   ]
  },
  {
   "cell_type": "code",
   "execution_count": 11,
   "id": "e5b9fbcb",
   "metadata": {},
   "outputs": [
    {
     "name": "stdout",
     "output_type": "stream",
     "text": [
      "[Timestamp('2017-07-04 00:00:00')]\n"
     ]
    }
   ],
   "source": [
    "for i in sample.index:\n",
    "    if sample.loc[i,'Date'] in us_holidays:\n",
    "        pub_hol.append(sample.loc[i,'Date'])\n",
    "        pub_hol_index.append(i)\n",
    "print(pub_hol)"
   ]
  },
  {
   "cell_type": "markdown",
   "id": "429ac8dc",
   "metadata": {},
   "source": [
    "**The data has 1 record on public holidays (US holiday)**"
   ]
  },
  {
   "cell_type": "code",
   "execution_count": 12,
   "id": "50f06cca",
   "metadata": {},
   "outputs": [
    {
     "data": {
      "text/html": [
       "<div>\n",
       "<style scoped>\n",
       "    .dataframe tbody tr th:only-of-type {\n",
       "        vertical-align: middle;\n",
       "    }\n",
       "\n",
       "    .dataframe tbody tr th {\n",
       "        vertical-align: top;\n",
       "    }\n",
       "\n",
       "    .dataframe thead th {\n",
       "        text-align: right;\n",
       "    }\n",
       "</style>\n",
       "<table border=\"1\" class=\"dataframe\">\n",
       "  <thead>\n",
       "    <tr style=\"text-align: right;\">\n",
       "      <th></th>\n",
       "      <th>Date</th>\n",
       "      <th>Signal</th>\n",
       "      <th>Open</th>\n",
       "      <th>High</th>\n",
       "      <th>Low</th>\n",
       "      <th>Close</th>\n",
       "      <th>Adj Close</th>\n",
       "    </tr>\n",
       "  </thead>\n",
       "  <tbody>\n",
       "    <tr>\n",
       "      <th>406</th>\n",
       "      <td>2017-06-30</td>\n",
       "      <td>16.482053</td>\n",
       "      <td>141.250000</td>\n",
       "      <td>141.669998</td>\n",
       "      <td>140.770004</td>\n",
       "      <td>140.919998</td>\n",
       "      <td>134.474945</td>\n",
       "    </tr>\n",
       "    <tr>\n",
       "      <th>407</th>\n",
       "      <td>2017-07-03</td>\n",
       "      <td>16.803540</td>\n",
       "      <td>141.339996</td>\n",
       "      <td>142.500000</td>\n",
       "      <td>141.300003</td>\n",
       "      <td>142.100006</td>\n",
       "      <td>135.600998</td>\n",
       "    </tr>\n",
       "    <tr>\n",
       "      <th>408</th>\n",
       "      <td>2017-07-04</td>\n",
       "      <td>15.282748</td>\n",
       "      <td>141.339996</td>\n",
       "      <td>142.600000</td>\n",
       "      <td>141.400003</td>\n",
       "      <td>142.200006</td>\n",
       "      <td>135.700998</td>\n",
       "    </tr>\n",
       "    <tr>\n",
       "      <th>409</th>\n",
       "      <td>2017-07-05</td>\n",
       "      <td>15.282748</td>\n",
       "      <td>141.699997</td>\n",
       "      <td>141.850006</td>\n",
       "      <td>140.699997</td>\n",
       "      <td>141.589996</td>\n",
       "      <td>135.114380</td>\n",
       "    </tr>\n",
       "    <tr>\n",
       "      <th>410</th>\n",
       "      <td>2017-07-06</td>\n",
       "      <td>15.811562</td>\n",
       "      <td>139.929993</td>\n",
       "      <td>140.470001</td>\n",
       "      <td>138.830002</td>\n",
       "      <td>139.139999</td>\n",
       "      <td>133.349945</td>\n",
       "    </tr>\n",
       "  </tbody>\n",
       "</table>\n",
       "</div>"
      ],
      "text/plain": [
       "          Date     Signal        Open        High         Low       Close  \\\n",
       "406 2017-06-30  16.482053  141.250000  141.669998  140.770004  140.919998   \n",
       "407 2017-07-03  16.803540  141.339996  142.500000  141.300003  142.100006   \n",
       "408 2017-07-04  15.282748  141.339996  142.600000  141.400003  142.200006   \n",
       "409 2017-07-05  15.282748  141.699997  141.850006  140.699997  141.589996   \n",
       "410 2017-07-06  15.811562  139.929993  140.470001  138.830002  139.139999   \n",
       "\n",
       "      Adj Close  \n",
       "406  134.474945  \n",
       "407  135.600998  \n",
       "408  135.700998  \n",
       "409  135.114380  \n",
       "410  133.349945  "
      ]
     },
     "execution_count": 12,
     "metadata": {},
     "output_type": "execute_result"
    }
   ],
   "source": [
    "sample.loc[pub_hol_index[0]-2:pub_hol_index[0]+2]"
   ]
  },
  {
   "cell_type": "markdown",
   "id": "406451f1",
   "metadata": {},
   "source": [
    "The prices of this record are not exactly the same as its neighboring records but are very close to last record (all of High, Low, Close and Adj Close are just **+0.1 from last record**), so guess is autofill down from last record. **Correction is to remove this record.**"
   ]
  },
  {
   "cell_type": "markdown",
   "id": "0ace3ba1",
   "metadata": {},
   "source": [
    "# e. Missing working days"
   ]
  },
  {
   "cell_type": "code",
   "execution_count": 13,
   "id": "6ff110db",
   "metadata": {},
   "outputs": [
    {
     "data": {
      "text/plain": [
       "Timestamp('2020-01-06 00:00:00')"
      ]
     },
     "execution_count": 13,
     "metadata": {},
     "output_type": "execute_result"
    }
   ],
   "source": [
    "sample['Date'].max()"
   ]
  },
  {
   "cell_type": "code",
   "execution_count": 14,
   "id": "8b632e20",
   "metadata": {},
   "outputs": [
    {
     "data": {
      "text/plain": [
       "[Timestamp('2018-11-12 00:00:00'),\n",
       " Timestamp('2018-11-13 00:00:00'),\n",
       " Timestamp('2018-11-14 00:00:00'),\n",
       " Timestamp('2018-11-15 00:00:00'),\n",
       " Timestamp('2018-11-16 00:00:00')]"
      ]
     },
     "execution_count": 14,
     "metadata": {},
     "output_type": "execute_result"
    }
   ],
   "source": [
    "start_date = sample['Date'].min()\n",
    "mis_workday = []\n",
    "while start_date < sample['Date'].max():\n",
    "    if pd.Timestamp.weekday(start_date) <5 and start_date not in us_holidays:\n",
    "        if start_date not in sample['Date'].tolist():\n",
    "            mis_workday.append(start_date)\n",
    "    start_date += datetime.timedelta(days=1)\n",
    "mis_workday"
   ]
  },
  {
   "cell_type": "markdown",
   "id": "4c18bcb2",
   "metadata": {},
   "source": [
    "**The dataset has 5 missing working days.** Prices for dates between 12Nov2018 – 16Nov2018 (5 working days) is missing, correction is described in below section 1.1 correction"
   ]
  },
  {
   "cell_type": "markdown",
   "id": "4472b4b3",
   "metadata": {},
   "source": [
    "# (3) Prices:"
   ]
  },
  {
   "cell_type": "markdown",
   "id": "7ac6cc44",
   "metadata": {},
   "source": [
    "## a. Negative prices"
   ]
  },
  {
   "cell_type": "code",
   "execution_count": 15,
   "id": "1a5fc663",
   "metadata": {},
   "outputs": [
    {
     "data": {
      "text/html": [
       "<div>\n",
       "<style scoped>\n",
       "    .dataframe tbody tr th:only-of-type {\n",
       "        vertical-align: middle;\n",
       "    }\n",
       "\n",
       "    .dataframe tbody tr th {\n",
       "        vertical-align: top;\n",
       "    }\n",
       "\n",
       "    .dataframe thead th {\n",
       "        text-align: right;\n",
       "    }\n",
       "</style>\n",
       "<table border=\"1\" class=\"dataframe\">\n",
       "  <thead>\n",
       "    <tr style=\"text-align: right;\">\n",
       "      <th></th>\n",
       "      <th>Date</th>\n",
       "      <th>Signal</th>\n",
       "      <th>Open</th>\n",
       "      <th>High</th>\n",
       "      <th>Low</th>\n",
       "      <th>Close</th>\n",
       "      <th>Adj Close</th>\n",
       "    </tr>\n",
       "  </thead>\n",
       "  <tbody>\n",
       "    <tr>\n",
       "      <th>733</th>\n",
       "      <td>2018-10-10</td>\n",
       "      <td>19.719477</td>\n",
       "      <td>160.820007</td>\n",
       "      <td>160.990005</td>\n",
       "      <td>156.360001</td>\n",
       "      <td>156.559998</td>\n",
       "      <td>-152.277847</td>\n",
       "    </tr>\n",
       "  </tbody>\n",
       "</table>\n",
       "</div>"
      ],
      "text/plain": [
       "          Date     Signal        Open        High         Low       Close  \\\n",
       "733 2018-10-10  19.719477  160.820007  160.990005  156.360001  156.559998   \n",
       "\n",
       "      Adj Close  \n",
       "733 -152.277847  "
      ]
     },
     "execution_count": 15,
     "metadata": {},
     "output_type": "execute_result"
    }
   ],
   "source": [
    "sample[(sample.loc[:,'Open':'Adj Close']<0).any(axis = 1)]"
   ]
  },
  {
   "cell_type": "code",
   "execution_count": 16,
   "id": "c7a5b130",
   "metadata": {},
   "outputs": [
    {
     "data": {
      "text/plain": [
       "Int64Index([733], dtype='int64')"
      ]
     },
     "execution_count": 16,
     "metadata": {},
     "output_type": "execute_result"
    }
   ],
   "source": [
    "sample[(sample.loc[:,'Open':'Adj Close']<0).any(axis = 1)].index"
   ]
  },
  {
   "cell_type": "markdown",
   "id": "195f095b",
   "metadata": {},
   "source": [
    "**1 day has negative price**: as pointed out before, the “Adj Close” contains one negative value, and it should be computer “typo” "
   ]
  },
  {
   "cell_type": "markdown",
   "id": "233ed8db",
   "metadata": {},
   "source": [
    "## b. “Low” < (“Open”, “Close”) < “High”"
   ]
  },
  {
   "cell_type": "code",
   "execution_count": 17,
   "id": "15386a8f",
   "metadata": {},
   "outputs": [],
   "source": [
    "def price_correct_check(df):\n",
    "    res = ''\n",
    "    if df['Low']>df['High']:\n",
    "        res+='1'\n",
    "    if df['Close']>df['High']:\n",
    "        res+='2'\n",
    "    if df['Close']<df['Low']:\n",
    "        res+='3'\n",
    "    if df['Open']>df['High']:\n",
    "        res+='4'\n",
    "    if df['Open']<df['Low']:\n",
    "        res+='5'\n",
    "    return res"
   ]
  },
  {
   "cell_type": "code",
   "execution_count": 18,
   "id": "34271aea",
   "metadata": {},
   "outputs": [],
   "source": [
    "wrong_price = sample.apply(price_correct_check, axis = 1)\n",
    "wrong_price = wrong_price[wrong_price.apply(len)>0]"
   ]
  },
  {
   "cell_type": "code",
   "execution_count": 19,
   "id": "7dfd9431",
   "metadata": {},
   "outputs": [
    {
     "name": "stdout",
     "output_type": "stream",
     "text": [
      "Number of illegal records: 20\n"
     ]
    }
   ],
   "source": [
    "print(\"Number of illegal records: {}\".format(len(wrong_price)))"
   ]
  },
  {
   "cell_type": "code",
   "execution_count": 20,
   "id": "3e8bedbc",
   "metadata": {},
   "outputs": [
    {
     "data": {
      "text/html": [
       "<div>\n",
       "<style scoped>\n",
       "    .dataframe tbody tr th:only-of-type {\n",
       "        vertical-align: middle;\n",
       "    }\n",
       "\n",
       "    .dataframe tbody tr th {\n",
       "        vertical-align: top;\n",
       "    }\n",
       "\n",
       "    .dataframe thead th {\n",
       "        text-align: right;\n",
       "    }\n",
       "</style>\n",
       "<table border=\"1\" class=\"dataframe\">\n",
       "  <thead>\n",
       "    <tr style=\"text-align: right;\">\n",
       "      <th></th>\n",
       "      <th>Date</th>\n",
       "      <th>Signal</th>\n",
       "      <th>Open</th>\n",
       "      <th>High</th>\n",
       "      <th>Low</th>\n",
       "      <th>Close</th>\n",
       "      <th>Adj Close</th>\n",
       "    </tr>\n",
       "  </thead>\n",
       "  <tbody>\n",
       "    <tr>\n",
       "      <th>408</th>\n",
       "      <td>2017-07-04</td>\n",
       "      <td>15.282748</td>\n",
       "      <td>141.339996</td>\n",
       "      <td>142.600000</td>\n",
       "      <td>141.400003</td>\n",
       "      <td>142.200006</td>\n",
       "      <td>135.700998</td>\n",
       "    </tr>\n",
       "    <tr>\n",
       "      <th>432</th>\n",
       "      <td>2017-08-07</td>\n",
       "      <td>16.298805</td>\n",
       "      <td>140.440002</td>\n",
       "      <td>140.350000</td>\n",
       "      <td>139.710007</td>\n",
       "      <td>140.440002</td>\n",
       "      <td>134.595871</td>\n",
       "    </tr>\n",
       "    <tr>\n",
       "      <th>456</th>\n",
       "      <td>2017-09-11</td>\n",
       "      <td>15.838558</td>\n",
       "      <td>140.389999</td>\n",
       "      <td>140.919998</td>\n",
       "      <td>140.229996</td>\n",
       "      <td>139.110001</td>\n",
       "      <td>133.321198</td>\n",
       "    </tr>\n",
       "    <tr>\n",
       "      <th>457</th>\n",
       "      <td>2017-09-12</td>\n",
       "      <td>15.518587</td>\n",
       "      <td>141.039993</td>\n",
       "      <td>141.690002</td>\n",
       "      <td>140.820007</td>\n",
       "      <td>139.110001</td>\n",
       "      <td>133.321198</td>\n",
       "    </tr>\n",
       "    <tr>\n",
       "      <th>458</th>\n",
       "      <td>2017-09-13</td>\n",
       "      <td>16.158529</td>\n",
       "      <td>141.410004</td>\n",
       "      <td>142.220001</td>\n",
       "      <td>141.320007</td>\n",
       "      <td>139.110001</td>\n",
       "      <td>133.321198</td>\n",
       "    </tr>\n",
       "  </tbody>\n",
       "</table>\n",
       "</div>"
      ],
      "text/plain": [
       "          Date     Signal        Open        High         Low       Close  \\\n",
       "408 2017-07-04  15.282748  141.339996  142.600000  141.400003  142.200006   \n",
       "432 2017-08-07  16.298805  140.440002  140.350000  139.710007  140.440002   \n",
       "456 2017-09-11  15.838558  140.389999  140.919998  140.229996  139.110001   \n",
       "457 2017-09-12  15.518587  141.039993  141.690002  140.820007  139.110001   \n",
       "458 2017-09-13  16.158529  141.410004  142.220001  141.320007  139.110001   \n",
       "\n",
       "      Adj Close  \n",
       "408  135.700998  \n",
       "432  134.595871  \n",
       "456  133.321198  \n",
       "457  133.321198  \n",
       "458  133.321198  "
      ]
     },
     "execution_count": 20,
     "metadata": {},
     "output_type": "execute_result"
    }
   ],
   "source": [
    "sample.loc[wrong_price.index].head()"
   ]
  },
  {
   "cell_type": "markdown",
   "id": "e92ca566",
   "metadata": {},
   "source": [
    "**In total there are 20 days with prices not fulfilling “Low” < (“Open”, “Close”) < “High” rule.**  \n",
    "**Correction is described in below correction section**"
   ]
  },
  {
   "cell_type": "markdown",
   "id": "b4089f05",
   "metadata": {},
   "source": [
    "## c. Adj Close"
   ]
  },
  {
   "cell_type": "markdown",
   "id": "a915d823",
   "metadata": {},
   "source": [
    "The \"Adj Close\" if similar to Yahoo Finance, is just \"Close\" adjusted for dividends and stock split. So the ratio of \"Close\" to \"Adj Close\" should be persistent for a period of time."
   ]
  },
  {
   "cell_type": "markdown",
   "id": "211c3afa",
   "metadata": {},
   "source": [
    "And because in (3)-a I already detected a negative Adj Close records, so in this section I'll first correct that to positive value then examine."
   ]
  },
  {
   "cell_type": "code",
   "execution_count": 21,
   "id": "91fb8959",
   "metadata": {},
   "outputs": [
    {
     "data": {
      "text/plain": [
       "1       0.932980\n",
       "2       0.932979\n",
       "3       0.932979\n",
       "4       0.932980\n",
       "5       0.932979\n",
       "          ...   \n",
       "1034    0.989021\n",
       "1035    0.989021\n",
       "1036    0.989021\n",
       "1037    0.989021\n",
       "1038    0.989021\n",
       "Name: Adj/Close, Length: 1038, dtype: float64"
      ]
     },
     "execution_count": 21,
     "metadata": {},
     "output_type": "execute_result"
    }
   ],
   "source": [
    "sample['Adj/Close'] = np.abs(sample['Adj Close']/sample['Close'])\n",
    "sample['Adj/Close']"
   ]
  },
  {
   "cell_type": "code",
   "execution_count": 22,
   "id": "3ddc9b7d",
   "metadata": {},
   "outputs": [
    {
     "data": {
      "text/plain": [
       "[(1, 0.7678226093734595),\n",
       " (0, 0.8158432673157043),\n",
       " (0, 0.8638639252579492),\n",
       " (464, 0.911884583200194),\n",
       " (571, 0.9599052411424389),\n",
       " (0, 1.0079258990846838),\n",
       " (0, 1.0559465570269286),\n",
       " (0, 1.1039672149691735),\n",
       " (1, 1.1519878729114184),\n",
       " (1, 1.2000085308536632)]"
      ]
     },
     "execution_count": 22,
     "metadata": {},
     "output_type": "execute_result"
    }
   ],
   "source": [
    "count, division = np.histogram(sample['Adj/Close'])\n",
    "list(zip(count,division))"
   ]
  },
  {
   "cell_type": "markdown",
   "id": "1756fe88",
   "metadata": {},
   "source": [
    "From the histogram count we can see there are three abnormal \"Adj Close\", and since the number is not large, I examined them one by one"
   ]
  },
  {
   "cell_type": "markdown",
   "id": "6873b853",
   "metadata": {},
   "source": [
    "**No. 1:**"
   ]
  },
  {
   "cell_type": "code",
   "execution_count": 23,
   "id": "64449a98",
   "metadata": {},
   "outputs": [
    {
     "data": {
      "text/html": [
       "<div>\n",
       "<style scoped>\n",
       "    .dataframe tbody tr th:only-of-type {\n",
       "        vertical-align: middle;\n",
       "    }\n",
       "\n",
       "    .dataframe tbody tr th {\n",
       "        vertical-align: top;\n",
       "    }\n",
       "\n",
       "    .dataframe thead th {\n",
       "        text-align: right;\n",
       "    }\n",
       "</style>\n",
       "<table border=\"1\" class=\"dataframe\">\n",
       "  <thead>\n",
       "    <tr style=\"text-align: right;\">\n",
       "      <th></th>\n",
       "      <th>Date</th>\n",
       "      <th>Signal</th>\n",
       "      <th>Open</th>\n",
       "      <th>High</th>\n",
       "      <th>Low</th>\n",
       "      <th>Close</th>\n",
       "      <th>Adj Close</th>\n",
       "      <th>Adj/Close</th>\n",
       "    </tr>\n",
       "  </thead>\n",
       "  <tbody>\n",
       "    <tr>\n",
       "      <th>584</th>\n",
       "      <td>2018-03-15</td>\n",
       "      <td>18.100298</td>\n",
       "      <td>158.100006</td>\n",
       "      <td>158.139999</td>\n",
       "      <td>156.369995</td>\n",
       "      <td>156.919998</td>\n",
       "      <td>151.325409</td>\n",
       "      <td>0.964348</td>\n",
       "    </tr>\n",
       "    <tr>\n",
       "      <th>585</th>\n",
       "      <td>2018-03-16</td>\n",
       "      <td>19.385186</td>\n",
       "      <td>156.979996</td>\n",
       "      <td>158.270004</td>\n",
       "      <td>156.750000</td>\n",
       "      <td>157.800003</td>\n",
       "      <td>152.174042</td>\n",
       "      <td>0.964348</td>\n",
       "    </tr>\n",
       "    <tr>\n",
       "      <th>586</th>\n",
       "      <td>2018-03-19</td>\n",
       "      <td>18.660897</td>\n",
       "      <td>157.169998</td>\n",
       "      <td>157.210007</td>\n",
       "      <td>154.449997</td>\n",
       "      <td>196.279999</td>\n",
       "      <td>150.708221</td>\n",
       "      <td>0.767823</td>\n",
       "    </tr>\n",
       "    <tr>\n",
       "      <th>587</th>\n",
       "      <td>2018-03-20</td>\n",
       "      <td>19.177721</td>\n",
       "      <td>156.669998</td>\n",
       "      <td>157.020004</td>\n",
       "      <td>155.770004</td>\n",
       "      <td>156.240005</td>\n",
       "      <td>150.669647</td>\n",
       "      <td>0.964347</td>\n",
       "    </tr>\n",
       "    <tr>\n",
       "      <th>588</th>\n",
       "      <td>2018-03-21</td>\n",
       "      <td>19.019439</td>\n",
       "      <td>156.320007</td>\n",
       "      <td>158.259995</td>\n",
       "      <td>156.199997</td>\n",
       "      <td>157.149994</td>\n",
       "      <td>151.547241</td>\n",
       "      <td>0.964348</td>\n",
       "    </tr>\n",
       "  </tbody>\n",
       "</table>\n",
       "</div>"
      ],
      "text/plain": [
       "          Date     Signal        Open        High         Low       Close  \\\n",
       "584 2018-03-15  18.100298  158.100006  158.139999  156.369995  156.919998   \n",
       "585 2018-03-16  19.385186  156.979996  158.270004  156.750000  157.800003   \n",
       "586 2018-03-19  18.660897  157.169998  157.210007  154.449997  196.279999   \n",
       "587 2018-03-20  19.177721  156.669998  157.020004  155.770004  156.240005   \n",
       "588 2018-03-21  19.019439  156.320007  158.259995  156.199997  157.149994   \n",
       "\n",
       "      Adj Close  Adj/Close  \n",
       "584  151.325409   0.964348  \n",
       "585  152.174042   0.964348  \n",
       "586  150.708221   0.767823  \n",
       "587  150.669647   0.964347  \n",
       "588  151.547241   0.964348  "
      ]
     },
     "execution_count": 23,
     "metadata": {},
     "output_type": "execute_result"
    }
   ],
   "source": [
    "sample.loc[sample[sample['Adj/Close']<0.8].index[0]-2:].head()"
   ]
  },
  {
   "cell_type": "code",
   "execution_count": 24,
   "id": "f800c0dc",
   "metadata": {},
   "outputs": [
    {
     "data": {
      "text/plain": [
       "True"
      ]
     },
     "execution_count": 24,
     "metadata": {},
     "output_type": "execute_result"
    }
   ],
   "source": [
    "sample[sample['Adj/Close']<0.8].index[0] in wrong_price.index"
   ]
  },
  {
   "cell_type": "markdown",
   "id": "4e08f9bc",
   "metadata": {},
   "source": [
    "Noted that this one is due to the illegal \"Close\" (larger than \"High\"), so after adjustment (set \"Close\" = \"High\") the Adj/CLose becomes:"
   ]
  },
  {
   "cell_type": "code",
   "execution_count": 25,
   "id": "b444af50",
   "metadata": {},
   "outputs": [
    {
     "data": {
      "text/plain": [
       "0.9586426708829039"
      ]
     },
     "execution_count": 25,
     "metadata": {},
     "output_type": "execute_result"
    }
   ],
   "source": [
    "sample.loc[586,'Adj Close']/sample.loc[586,'High']"
   ]
  },
  {
   "cell_type": "markdown",
   "id": "f020f018",
   "metadata": {},
   "source": [
    "which looks normal comparing to its neighborning records."
   ]
  },
  {
   "cell_type": "markdown",
   "id": "1e2609c1",
   "metadata": {},
   "source": [
    "**No. 2:**"
   ]
  },
  {
   "cell_type": "code",
   "execution_count": 26,
   "id": "29cad802",
   "metadata": {},
   "outputs": [
    {
     "data": {
      "text/html": [
       "<div>\n",
       "<style scoped>\n",
       "    .dataframe tbody tr th:only-of-type {\n",
       "        vertical-align: middle;\n",
       "    }\n",
       "\n",
       "    .dataframe tbody tr th {\n",
       "        vertical-align: top;\n",
       "    }\n",
       "\n",
       "    .dataframe thead th {\n",
       "        text-align: right;\n",
       "    }\n",
       "</style>\n",
       "<table border=\"1\" class=\"dataframe\">\n",
       "  <thead>\n",
       "    <tr style=\"text-align: right;\">\n",
       "      <th></th>\n",
       "      <th>Date</th>\n",
       "      <th>Signal</th>\n",
       "      <th>Open</th>\n",
       "      <th>High</th>\n",
       "      <th>Low</th>\n",
       "      <th>Close</th>\n",
       "      <th>Adj Close</th>\n",
       "      <th>Adj/Close</th>\n",
       "    </tr>\n",
       "  </thead>\n",
       "  <tbody>\n",
       "    <tr>\n",
       "      <th>337</th>\n",
       "      <td>2017-03-23</td>\n",
       "      <td>15.705048</td>\n",
       "      <td>134.000000</td>\n",
       "      <td>135.699997</td>\n",
       "      <td>133.639999</td>\n",
       "      <td>134.779999</td>\n",
       "      <td>128.246490</td>\n",
       "      <td>0.951525</td>\n",
       "    </tr>\n",
       "    <tr>\n",
       "      <th>338</th>\n",
       "      <td>2017-03-24</td>\n",
       "      <td>15.131940</td>\n",
       "      <td>134.949997</td>\n",
       "      <td>135.470001</td>\n",
       "      <td>133.860001</td>\n",
       "      <td>134.490005</td>\n",
       "      <td>128.339050</td>\n",
       "      <td>0.954265</td>\n",
       "    </tr>\n",
       "    <tr>\n",
       "      <th>339</th>\n",
       "      <td>2017-03-27</td>\n",
       "      <td>16.032241</td>\n",
       "      <td>132.759995</td>\n",
       "      <td>135.070007</td>\n",
       "      <td>132.399994</td>\n",
       "      <td>134.740005</td>\n",
       "      <td>158.577637</td>\n",
       "      <td>1.176916</td>\n",
       "    </tr>\n",
       "    <tr>\n",
       "      <th>340</th>\n",
       "      <td>2017-03-28</td>\n",
       "      <td>16.215369</td>\n",
       "      <td>134.279999</td>\n",
       "      <td>135.899994</td>\n",
       "      <td>134.139999</td>\n",
       "      <td>135.789993</td>\n",
       "      <td>129.579605</td>\n",
       "      <td>0.954265</td>\n",
       "    </tr>\n",
       "    <tr>\n",
       "      <th>341</th>\n",
       "      <td>2017-03-29</td>\n",
       "      <td>15.265496</td>\n",
       "      <td>135.699997</td>\n",
       "      <td>136.490005</td>\n",
       "      <td>135.300003</td>\n",
       "      <td>136.229996</td>\n",
       "      <td>129.999481</td>\n",
       "      <td>0.954265</td>\n",
       "    </tr>\n",
       "  </tbody>\n",
       "</table>\n",
       "</div>"
      ],
      "text/plain": [
       "          Date     Signal        Open        High         Low       Close  \\\n",
       "337 2017-03-23  15.705048  134.000000  135.699997  133.639999  134.779999   \n",
       "338 2017-03-24  15.131940  134.949997  135.470001  133.860001  134.490005   \n",
       "339 2017-03-27  16.032241  132.759995  135.070007  132.399994  134.740005   \n",
       "340 2017-03-28  16.215369  134.279999  135.899994  134.139999  135.789993   \n",
       "341 2017-03-29  15.265496  135.699997  136.490005  135.300003  136.229996   \n",
       "\n",
       "      Adj Close  Adj/Close  \n",
       "337  128.246490   0.951525  \n",
       "338  128.339050   0.954265  \n",
       "339  158.577637   1.176916  \n",
       "340  129.579605   0.954265  \n",
       "341  129.999481   0.954265  "
      ]
     },
     "execution_count": 26,
     "metadata": {},
     "output_type": "execute_result"
    }
   ],
   "source": [
    "sample[sample[(sample['Adj/Close']<1.2) &\\\n",
    "              (sample['Adj/Close']>1)].index[0]-3:].head()"
   ]
  },
  {
   "cell_type": "code",
   "execution_count": 27,
   "id": "824f5b96",
   "metadata": {},
   "outputs": [
    {
     "data": {
      "text/plain": [
       "False"
      ]
     },
     "execution_count": 27,
     "metadata": {},
     "output_type": "execute_result"
    }
   ],
   "source": [
    "sample[(sample['Adj/Close']<1.2) &\\\n",
    "       (sample['Adj/Close']>1)].index[0] in wrong_price.index"
   ]
  },
  {
   "cell_type": "markdown",
   "id": "a7aeb62d",
   "metadata": {},
   "source": [
    "This one's prices look right, so is due to abnormal \"Adj Close\", and the records before and after it all have Adj Close/Close ratio of 0.954265, so this one should have the same ratio. **Correction is to adjust the \"Adj Close\" so that \"Adj Close\"/\"Close\" for 27Mar2017 = 0.954265**"
   ]
  },
  {
   "cell_type": "markdown",
   "id": "15aff414",
   "metadata": {},
   "source": [
    "**No. 3:**"
   ]
  },
  {
   "cell_type": "code",
   "execution_count": 28,
   "id": "dbf1f679",
   "metadata": {},
   "outputs": [
    {
     "data": {
      "text/html": [
       "<div>\n",
       "<style scoped>\n",
       "    .dataframe tbody tr th:only-of-type {\n",
       "        vertical-align: middle;\n",
       "    }\n",
       "\n",
       "    .dataframe tbody tr th {\n",
       "        vertical-align: top;\n",
       "    }\n",
       "\n",
       "    .dataframe thead th {\n",
       "        text-align: right;\n",
       "    }\n",
       "</style>\n",
       "<table border=\"1\" class=\"dataframe\">\n",
       "  <thead>\n",
       "    <tr style=\"text-align: right;\">\n",
       "      <th></th>\n",
       "      <th>Date</th>\n",
       "      <th>Signal</th>\n",
       "      <th>Open</th>\n",
       "      <th>High</th>\n",
       "      <th>Low</th>\n",
       "      <th>Close</th>\n",
       "      <th>Adj Close</th>\n",
       "      <th>Adj/Close</th>\n",
       "    </tr>\n",
       "  </thead>\n",
       "  <tbody>\n",
       "    <tr>\n",
       "      <th>261</th>\n",
       "      <td>2016-12-01</td>\n",
       "      <td>15.304759</td>\n",
       "      <td>132.250000</td>\n",
       "      <td>132.550003</td>\n",
       "      <td>130.289993</td>\n",
       "      <td>130.970001</td>\n",
       "      <td>124.109283</td>\n",
       "      <td>0.947616</td>\n",
       "    </tr>\n",
       "    <tr>\n",
       "      <th>262</th>\n",
       "      <td>2016-12-02</td>\n",
       "      <td>14.990113</td>\n",
       "      <td>130.940002</td>\n",
       "      <td>131.470001</td>\n",
       "      <td>130.520004</td>\n",
       "      <td>130.899994</td>\n",
       "      <td>124.042938</td>\n",
       "      <td>0.947616</td>\n",
       "    </tr>\n",
       "    <tr>\n",
       "      <th>263</th>\n",
       "      <td>2016-12-05</td>\n",
       "      <td>16.011011</td>\n",
       "      <td>131.970001</td>\n",
       "      <td>133.330002</td>\n",
       "      <td>131.889999</td>\n",
       "      <td>133.149994</td>\n",
       "      <td>166.175079</td>\n",
       "      <td>1.248029</td>\n",
       "    </tr>\n",
       "    <tr>\n",
       "      <th>264</th>\n",
       "      <td>2016-12-06</td>\n",
       "      <td>15.885051</td>\n",
       "      <td>133.520004</td>\n",
       "      <td>134.910004</td>\n",
       "      <td>132.740005</td>\n",
       "      <td>134.589996</td>\n",
       "      <td>127.539658</td>\n",
       "      <td>0.947616</td>\n",
       "    </tr>\n",
       "    <tr>\n",
       "      <th>265</th>\n",
       "      <td>2016-12-07</td>\n",
       "      <td>15.406135</td>\n",
       "      <td>134.589996</td>\n",
       "      <td>136.179993</td>\n",
       "      <td>134.179993</td>\n",
       "      <td>135.899994</td>\n",
       "      <td>128.781036</td>\n",
       "      <td>0.947616</td>\n",
       "    </tr>\n",
       "  </tbody>\n",
       "</table>\n",
       "</div>"
      ],
      "text/plain": [
       "          Date     Signal        Open        High         Low       Close  \\\n",
       "261 2016-12-01  15.304759  132.250000  132.550003  130.289993  130.970001   \n",
       "262 2016-12-02  14.990113  130.940002  131.470001  130.520004  130.899994   \n",
       "263 2016-12-05  16.011011  131.970001  133.330002  131.889999  133.149994   \n",
       "264 2016-12-06  15.885051  133.520004  134.910004  132.740005  134.589996   \n",
       "265 2016-12-07  15.406135  134.589996  136.179993  134.179993  135.899994   \n",
       "\n",
       "      Adj Close  Adj/Close  \n",
       "261  124.109283   0.947616  \n",
       "262  124.042938   0.947616  \n",
       "263  166.175079   1.248029  \n",
       "264  127.539658   0.947616  \n",
       "265  128.781036   0.947616  "
      ]
     },
     "execution_count": 28,
     "metadata": {},
     "output_type": "execute_result"
    }
   ],
   "source": [
    "sample[sample[sample['Adj/Close']>1.2].index[0]-3:].head()"
   ]
  },
  {
   "cell_type": "code",
   "execution_count": 29,
   "id": "10beb3af",
   "metadata": {},
   "outputs": [
    {
     "data": {
      "text/plain": [
       "False"
      ]
     },
     "execution_count": 29,
     "metadata": {},
     "output_type": "execute_result"
    }
   ],
   "source": [
    "sample[sample['Adj/Close']>1.2].index[0] in wrong_price.index"
   ]
  },
  {
   "cell_type": "markdown",
   "id": "28009a36",
   "metadata": {},
   "source": [
    "This one's issue is same as No. 2, **correction is to adjust the \"Adj Close\" so that \"Adj Close\"/\"Close\" for 27Mar2017 = 0.947616**"
   ]
  },
  {
   "cell_type": "markdown",
   "id": "4e6904d4",
   "metadata": {},
   "source": [
    "# (4) Signals"
   ]
  },
  {
   "cell_type": "markdown",
   "id": "0eb1dec5",
   "metadata": {},
   "source": [
    "## a. Signals with value \"0\""
   ]
  },
  {
   "cell_type": "code",
   "execution_count": 30,
   "id": "42b8ca3a",
   "metadata": {},
   "outputs": [
    {
     "data": {
      "text/html": [
       "<div>\n",
       "<style scoped>\n",
       "    .dataframe tbody tr th:only-of-type {\n",
       "        vertical-align: middle;\n",
       "    }\n",
       "\n",
       "    .dataframe tbody tr th {\n",
       "        vertical-align: top;\n",
       "    }\n",
       "\n",
       "    .dataframe thead th {\n",
       "        text-align: right;\n",
       "    }\n",
       "</style>\n",
       "<table border=\"1\" class=\"dataframe\">\n",
       "  <thead>\n",
       "    <tr style=\"text-align: right;\">\n",
       "      <th></th>\n",
       "      <th>Date</th>\n",
       "      <th>Signal</th>\n",
       "      <th>Open</th>\n",
       "      <th>High</th>\n",
       "      <th>Low</th>\n",
       "      <th>Close</th>\n",
       "      <th>Adj Close</th>\n",
       "      <th>Adj/Close</th>\n",
       "    </tr>\n",
       "  </thead>\n",
       "  <tbody>\n",
       "    <tr>\n",
       "      <th>1033</th>\n",
       "      <td>2019-12-27</td>\n",
       "      <td>0.0</td>\n",
       "      <td>167.119995</td>\n",
       "      <td>167.119995</td>\n",
       "      <td>165.429993</td>\n",
       "      <td>165.860001</td>\n",
       "      <td>164.039063</td>\n",
       "      <td>0.989021</td>\n",
       "    </tr>\n",
       "    <tr>\n",
       "      <th>1034</th>\n",
       "      <td>2019-12-30</td>\n",
       "      <td>0.0</td>\n",
       "      <td>165.979996</td>\n",
       "      <td>166.210007</td>\n",
       "      <td>164.570007</td>\n",
       "      <td>165.440002</td>\n",
       "      <td>163.623688</td>\n",
       "      <td>0.989021</td>\n",
       "    </tr>\n",
       "    <tr>\n",
       "      <th>1035</th>\n",
       "      <td>2019-12-31</td>\n",
       "      <td>0.0</td>\n",
       "      <td>165.080002</td>\n",
       "      <td>166.350006</td>\n",
       "      <td>164.710007</td>\n",
       "      <td>165.669998</td>\n",
       "      <td>163.851135</td>\n",
       "      <td>0.989021</td>\n",
       "    </tr>\n",
       "    <tr>\n",
       "      <th>1036</th>\n",
       "      <td>2020-01-02</td>\n",
       "      <td>0.0</td>\n",
       "      <td>166.740005</td>\n",
       "      <td>166.750000</td>\n",
       "      <td>164.229996</td>\n",
       "      <td>165.779999</td>\n",
       "      <td>163.959946</td>\n",
       "      <td>0.989021</td>\n",
       "    </tr>\n",
       "    <tr>\n",
       "      <th>1037</th>\n",
       "      <td>2020-01-03</td>\n",
       "      <td>0.0</td>\n",
       "      <td>163.740005</td>\n",
       "      <td>165.410004</td>\n",
       "      <td>163.699997</td>\n",
       "      <td>165.130005</td>\n",
       "      <td>163.317093</td>\n",
       "      <td>0.989021</td>\n",
       "    </tr>\n",
       "    <tr>\n",
       "      <th>1038</th>\n",
       "      <td>2020-01-06</td>\n",
       "      <td>0.0</td>\n",
       "      <td>163.850006</td>\n",
       "      <td>165.539993</td>\n",
       "      <td>163.539993</td>\n",
       "      <td>165.350006</td>\n",
       "      <td>163.534668</td>\n",
       "      <td>0.989021</td>\n",
       "    </tr>\n",
       "  </tbody>\n",
       "</table>\n",
       "</div>"
      ],
      "text/plain": [
       "           Date  Signal        Open        High         Low       Close  \\\n",
       "1033 2019-12-27     0.0  167.119995  167.119995  165.429993  165.860001   \n",
       "1034 2019-12-30     0.0  165.979996  166.210007  164.570007  165.440002   \n",
       "1035 2019-12-31     0.0  165.080002  166.350006  164.710007  165.669998   \n",
       "1036 2020-01-02     0.0  166.740005  166.750000  164.229996  165.779999   \n",
       "1037 2020-01-03     0.0  163.740005  165.410004  163.699997  165.130005   \n",
       "1038 2020-01-06     0.0  163.850006  165.539993  163.539993  165.350006   \n",
       "\n",
       "       Adj Close  Adj/Close  \n",
       "1033  164.039063   0.989021  \n",
       "1034  163.623688   0.989021  \n",
       "1035  163.851135   0.989021  \n",
       "1036  163.959946   0.989021  \n",
       "1037  163.317093   0.989021  \n",
       "1038  163.534668   0.989021  "
      ]
     },
     "execution_count": 30,
     "metadata": {},
     "output_type": "execute_result"
    }
   ],
   "source": [
    "sample[sample['Signal']==0]"
   ]
  },
  {
   "cell_type": "markdown",
   "id": "b230cb30",
   "metadata": {},
   "source": [
    "## b. Extremely large or small values"
   ]
  },
  {
   "cell_type": "code",
   "execution_count": 31,
   "id": "8bc05ecb",
   "metadata": {},
   "outputs": [
    {
     "data": {
      "text/plain": [
       "<AxesSubplot:>"
      ]
     },
     "execution_count": 31,
     "metadata": {},
     "output_type": "execute_result"
    },
    {
     "data": {
      "image/png": "[encoded data removed]",
      "text/plain": [
       "<Figure size 432x288 with 1 Axes>"
      ]
     },
     "metadata": {
      "needs_background": "light"
     },
     "output_type": "display_data"
    }
   ],
   "source": [
    "sample['Signal'].hist(bins=20)"
   ]
  },
  {
   "cell_type": "code",
   "execution_count": 32,
   "id": "26136f92",
   "metadata": {},
   "outputs": [
    {
     "data": {
      "text/plain": [
       "[(6, 0.0),\n",
       " (0, 3.5434147008000005),\n",
       " (2, 7.086829401600001),\n",
       " (220, 10.630244102400003),\n",
       " (332, 14.173658803200002),\n",
       " (455, 17.717073504000002),\n",
       " (21, 21.260488204800005),\n",
       " (1, 24.803902905600005),\n",
       " (0, 28.347317606400004),\n",
       " (1, 31.890732307200004)]"
      ]
     },
     "execution_count": 32,
     "metadata": {},
     "output_type": "execute_result"
    }
   ],
   "source": [
    "count, division = np.histogram(sample['Signal'])\n",
    "list(zip(count,division))"
   ]
  },
  {
   "cell_type": "code",
   "execution_count": 33,
   "id": "a3ad86f1",
   "metadata": {},
   "outputs": [
    {
     "data": {
      "text/html": [
       "<div>\n",
       "<style scoped>\n",
       "    .dataframe tbody tr th:only-of-type {\n",
       "        vertical-align: middle;\n",
       "    }\n",
       "\n",
       "    .dataframe tbody tr th {\n",
       "        vertical-align: top;\n",
       "    }\n",
       "\n",
       "    .dataframe thead th {\n",
       "        text-align: right;\n",
       "    }\n",
       "</style>\n",
       "<table border=\"1\" class=\"dataframe\">\n",
       "  <thead>\n",
       "    <tr style=\"text-align: right;\">\n",
       "      <th></th>\n",
       "      <th>Date</th>\n",
       "      <th>Signal</th>\n",
       "      <th>Open</th>\n",
       "      <th>High</th>\n",
       "      <th>Low</th>\n",
       "      <th>Close</th>\n",
       "      <th>Adj Close</th>\n",
       "      <th>Adj/Close</th>\n",
       "    </tr>\n",
       "  </thead>\n",
       "  <tbody>\n",
       "    <tr>\n",
       "      <th>499</th>\n",
       "      <td>2017-11-09</td>\n",
       "      <td>17.361475</td>\n",
       "      <td>146.270004</td>\n",
       "      <td>147.389999</td>\n",
       "      <td>145.279999</td>\n",
       "      <td>146.679993</td>\n",
       "      <td>140.916534</td>\n",
       "      <td>0.960707</td>\n",
       "    </tr>\n",
       "    <tr>\n",
       "      <th>500</th>\n",
       "      <td>2017-11-10</td>\n",
       "      <td>17.628384</td>\n",
       "      <td>146.710007</td>\n",
       "      <td>147.100006</td>\n",
       "      <td>146.350006</td>\n",
       "      <td>146.570007</td>\n",
       "      <td>140.810852</td>\n",
       "      <td>0.960707</td>\n",
       "    </tr>\n",
       "    <tr>\n",
       "      <th>501</th>\n",
       "      <td>2017-11-13</td>\n",
       "      <td>35.434147</td>\n",
       "      <td>145.929993</td>\n",
       "      <td>146.820007</td>\n",
       "      <td>145.500000</td>\n",
       "      <td>146.610001</td>\n",
       "      <td>140.849274</td>\n",
       "      <td>0.960707</td>\n",
       "    </tr>\n",
       "    <tr>\n",
       "      <th>502</th>\n",
       "      <td>2017-11-14</td>\n",
       "      <td>17.456319</td>\n",
       "      <td>146.059998</td>\n",
       "      <td>146.490005</td>\n",
       "      <td>145.589996</td>\n",
       "      <td>146.210007</td>\n",
       "      <td>140.465012</td>\n",
       "      <td>0.960707</td>\n",
       "    </tr>\n",
       "    <tr>\n",
       "      <th>503</th>\n",
       "      <td>2017-11-15</td>\n",
       "      <td>17.928089</td>\n",
       "      <td>145.350006</td>\n",
       "      <td>146.210007</td>\n",
       "      <td>144.500000</td>\n",
       "      <td>145.630005</td>\n",
       "      <td>139.907806</td>\n",
       "      <td>0.960707</td>\n",
       "    </tr>\n",
       "  </tbody>\n",
       "</table>\n",
       "</div>"
      ],
      "text/plain": [
       "          Date     Signal        Open        High         Low       Close  \\\n",
       "499 2017-11-09  17.361475  146.270004  147.389999  145.279999  146.679993   \n",
       "500 2017-11-10  17.628384  146.710007  147.100006  146.350006  146.570007   \n",
       "501 2017-11-13  35.434147  145.929993  146.820007  145.500000  146.610001   \n",
       "502 2017-11-14  17.456319  146.059998  146.490005  145.589996  146.210007   \n",
       "503 2017-11-15  17.928089  145.350006  146.210007  144.500000  145.630005   \n",
       "\n",
       "      Adj Close  Adj/Close  \n",
       "499  140.916534   0.960707  \n",
       "500  140.810852   0.960707  \n",
       "501  140.849274   0.960707  \n",
       "502  140.465012   0.960707  \n",
       "503  139.907806   0.960707  "
      ]
     },
     "execution_count": 33,
     "metadata": {},
     "output_type": "execute_result"
    }
   ],
   "source": [
    "sample.loc[sample[sample['Signal']>35].index[0]-2:].head()"
   ]
  },
  {
   "cell_type": "markdown",
   "id": "553b21ae",
   "metadata": {},
   "source": [
    "The histogram of signal shows an outlier in the right, with value of 35.43, looking at this record, the prices are not abnormal at that day, so it is highly likely this signal is wrong, will **remove this record** when evaluating the efficacy."
   ]
  },
  {
   "cell_type": "markdown",
   "id": "28a01443",
   "metadata": {},
   "source": [
    "# 1.1 Corrections"
   ]
  },
  {
   "cell_type": "markdown",
   "id": "91f3f481",
   "metadata": {},
   "source": [
    "## (2) c & d. Weekends and public holidays"
   ]
  },
  {
   "cell_type": "code",
   "execution_count": 34,
   "id": "6b7f2a4c",
   "metadata": {},
   "outputs": [],
   "source": [
    "newdata = sample.drop(index = weekends_index + pub_hol_index)\n",
    "newdata.index = range(1,len(newdata)+1)"
   ]
  },
  {
   "cell_type": "markdown",
   "id": "0c82cfa4",
   "metadata": {},
   "source": [
    "## (2) e. Missing workdays 12Nov2018 - 16Nov2018"
   ]
  },
  {
   "cell_type": "markdown",
   "id": "05883592",
   "metadata": {},
   "source": [
    "**Correction to signals: set them to be zero  \n",
    "Correction to price: interpolation using 9Nov2018 and 19Nov2018 prices**\n",
    "-\tClose is linearly interpolated from 9Nov to 19Nov, with increments of (148.86-154.08)/6 = -0.87\n",
    "-\tOpen(T) = Close(T-1)\n",
    "-\tHigh = Open, Low = Close, since 19Nov2018 Close < 9Nov2018 Close\n",
    "-\tAdj Close(T) = Close(T) * Adj Close(9Nov2018)/Close(9Nov2018)"
   ]
  },
  {
   "cell_type": "code",
   "execution_count": 35,
   "id": "149e59b7",
   "metadata": {},
   "outputs": [],
   "source": [
    "mis_df = pd.DataFrame(np.zeros((5,8)),columns = sample.columns)\n",
    "mis_df.loc[:,'Date'] = mis_workday\n",
    "start_v = sample[sample['Date']=='2018/11/9']['Close'].tolist()[0]\n",
    "end_v = sample[sample['Date']=='2018/11/19']['Close'].tolist()[0]\n",
    "inc = (end_v-start_v)/6\n",
    "mis_df.loc[:,'Close'] = np.cumsum([start_v]+[inc]*5)[1:]\n",
    "mis_df.loc[:,'Open'] = [start_v]+mis_df.loc[:,'Close'].tolist()[:-1]\n",
    "mis_df.loc[:,'High'] = mis_df['Open']\n",
    "mis_df.loc[:,'Low'] = mis_df['Close']\n",
    "adj_close = sample[sample['Date']=='2018/11/9']['Adj Close'].tolist()[0]\\\n",
    "    /sample[sample['Date']=='2018/11/9']['Close'].tolist()[0]\n",
    "mis_df.loc[:,'Adj Close'] = mis_df['Close']*adj_close\n",
    "mis_df.loc[:,'Adj/Close'] = adj_close\n",
    "\n",
    "newdata = pd.concat([newdata,mis_df])\n",
    "newdata = newdata.sort_values(['Date'])\n",
    "newdata.index = range(1,len(newdata)+1)"
   ]
  },
  {
   "cell_type": "code",
   "execution_count": 36,
   "id": "d6f1e261",
   "metadata": {},
   "outputs": [
    {
     "data": {
      "text/html": [
       "<div>\n",
       "<style scoped>\n",
       "    .dataframe tbody tr th:only-of-type {\n",
       "        vertical-align: middle;\n",
       "    }\n",
       "\n",
       "    .dataframe tbody tr th {\n",
       "        vertical-align: top;\n",
       "    }\n",
       "\n",
       "    .dataframe thead th {\n",
       "        text-align: right;\n",
       "    }\n",
       "</style>\n",
       "<table border=\"1\" class=\"dataframe\">\n",
       "  <thead>\n",
       "    <tr style=\"text-align: right;\">\n",
       "      <th></th>\n",
       "      <th>Date</th>\n",
       "      <th>Signal</th>\n",
       "      <th>Open</th>\n",
       "      <th>High</th>\n",
       "      <th>Low</th>\n",
       "      <th>Close</th>\n",
       "      <th>Adj Close</th>\n",
       "      <th>Adj/Close</th>\n",
       "    </tr>\n",
       "  </thead>\n",
       "  <tbody>\n",
       "    <tr>\n",
       "      <th>750</th>\n",
       "      <td>2018-11-09</td>\n",
       "      <td>19.074848</td>\n",
       "      <td>156.000000</td>\n",
       "      <td>156.029999</td>\n",
       "      <td>152.949997</td>\n",
       "      <td>154.080002</td>\n",
       "      <td>149.865677</td>\n",
       "      <td>0.972648</td>\n",
       "    </tr>\n",
       "    <tr>\n",
       "      <th>751</th>\n",
       "      <td>2018-11-12</td>\n",
       "      <td>0.000000</td>\n",
       "      <td>154.080002</td>\n",
       "      <td>154.080002</td>\n",
       "      <td>153.210002</td>\n",
       "      <td>153.210002</td>\n",
       "      <td>149.019473</td>\n",
       "      <td>0.972648</td>\n",
       "    </tr>\n",
       "    <tr>\n",
       "      <th>752</th>\n",
       "      <td>2018-11-13</td>\n",
       "      <td>0.000000</td>\n",
       "      <td>153.210002</td>\n",
       "      <td>153.210002</td>\n",
       "      <td>152.340002</td>\n",
       "      <td>152.340002</td>\n",
       "      <td>148.173268</td>\n",
       "      <td>0.972648</td>\n",
       "    </tr>\n",
       "    <tr>\n",
       "      <th>753</th>\n",
       "      <td>2018-11-14</td>\n",
       "      <td>0.000000</td>\n",
       "      <td>152.340002</td>\n",
       "      <td>152.340002</td>\n",
       "      <td>151.470001</td>\n",
       "      <td>151.470001</td>\n",
       "      <td>147.327064</td>\n",
       "      <td>0.972648</td>\n",
       "    </tr>\n",
       "    <tr>\n",
       "      <th>754</th>\n",
       "      <td>2018-11-15</td>\n",
       "      <td>0.000000</td>\n",
       "      <td>151.470001</td>\n",
       "      <td>151.470001</td>\n",
       "      <td>150.600001</td>\n",
       "      <td>150.600001</td>\n",
       "      <td>146.480860</td>\n",
       "      <td>0.972648</td>\n",
       "    </tr>\n",
       "    <tr>\n",
       "      <th>755</th>\n",
       "      <td>2018-11-16</td>\n",
       "      <td>0.000000</td>\n",
       "      <td>150.600001</td>\n",
       "      <td>150.600001</td>\n",
       "      <td>149.730001</td>\n",
       "      <td>149.730001</td>\n",
       "      <td>145.634655</td>\n",
       "      <td>0.972648</td>\n",
       "    </tr>\n",
       "    <tr>\n",
       "      <th>756</th>\n",
       "      <td>2018-11-19</td>\n",
       "      <td>17.769120</td>\n",
       "      <td>151.679993</td>\n",
       "      <td>152.029999</td>\n",
       "      <td>148.369995</td>\n",
       "      <td>148.860001</td>\n",
       "      <td>144.788452</td>\n",
       "      <td>0.972648</td>\n",
       "    </tr>\n",
       "  </tbody>\n",
       "</table>\n",
       "</div>"
      ],
      "text/plain": [
       "          Date     Signal        Open        High         Low       Close  \\\n",
       "750 2018-11-09  19.074848  156.000000  156.029999  152.949997  154.080002   \n",
       "751 2018-11-12   0.000000  154.080002  154.080002  153.210002  153.210002   \n",
       "752 2018-11-13   0.000000  153.210002  153.210002  152.340002  152.340002   \n",
       "753 2018-11-14   0.000000  152.340002  152.340002  151.470001  151.470001   \n",
       "754 2018-11-15   0.000000  151.470001  151.470001  150.600001  150.600001   \n",
       "755 2018-11-16   0.000000  150.600001  150.600001  149.730001  149.730001   \n",
       "756 2018-11-19  17.769120  151.679993  152.029999  148.369995  148.860001   \n",
       "\n",
       "      Adj Close  Adj/Close  \n",
       "750  149.865677   0.972648  \n",
       "751  149.019473   0.972648  \n",
       "752  148.173268   0.972648  \n",
       "753  147.327064   0.972648  \n",
       "754  146.480860   0.972648  \n",
       "755  145.634655   0.972648  \n",
       "756  144.788452   0.972648  "
      ]
     },
     "execution_count": 36,
     "metadata": {},
     "output_type": "execute_result"
    }
   ],
   "source": [
    "newdata[newdata['Date']>'2018/11/8'].head(n=7)"
   ]
  },
  {
   "cell_type": "markdown",
   "id": "99ec78c5",
   "metadata": {},
   "source": [
    "## (3) a. Negative price, change to positive"
   ]
  },
  {
   "cell_type": "code",
   "execution_count": 37,
   "id": "22064068",
   "metadata": {},
   "outputs": [],
   "source": [
    "neg_index = newdata[(newdata.loc[:,'Open':'Adj Close']<0).any(axis = 1)].index[0]\n",
    "newdata.loc[neg_index,'Adj Close'] = abs(newdata.loc[neg_index,'Adj Close'])"
   ]
  },
  {
   "cell_type": "code",
   "execution_count": 38,
   "id": "a5a2a2ec",
   "metadata": {
    "scrolled": true
   },
   "outputs": [
    {
     "data": {
      "text/plain": [
       "Date         2018-10-10 00:00:00\n",
       "Signal                 19.719477\n",
       "Open                  160.820007\n",
       "High                  160.990005\n",
       "Low                   156.360001\n",
       "Close                 156.559998\n",
       "Adj Close             152.277847\n",
       "Adj/Close               0.972648\n",
       "Name: 728, dtype: object"
      ]
     },
     "execution_count": 38,
     "metadata": {},
     "output_type": "execute_result"
    }
   ],
   "source": [
    "newdata.loc[neg_index]"
   ]
  },
  {
   "cell_type": "markdown",
   "id": "0469e5a2",
   "metadata": {},
   "source": [
    "## (3) b. Wrong prices, failed “Low” < (“Open”, “Close”) < “High” rule"
   ]
  },
  {
   "cell_type": "markdown",
   "id": "37ee9428",
   "metadata": {},
   "source": [
    "**Correction:**  \n",
    "-\t“High” < “Low”: set “High” = max(“Open”,”Close”,”Low”), “Low” = min(“Open”,“Close”,“High”);\n",
    "-\t“Close” > “High”: set “High” = “Close”;\n",
    "-\t“Close” < “Low”: set “Low” = “Close”;\n",
    "-\t“Open” > “High”: set “High” = “Open”;\n",
    "-\t“Open” < “Low”: set “Low” = “Open”;\n",
    "-   Exception as found in 1 - (3) - c, record on 19Mar2018 with extreme high \"Close\" should set \"Close\" = \"High\" so that \"Adj Close\"/\"Close\" is consistent to its neighbering records."
   ]
  },
  {
   "cell_type": "code",
   "execution_count": 39,
   "id": "4bec1531",
   "metadata": {},
   "outputs": [],
   "source": [
    "wrong_price = newdata.apply(price_correct_check, axis = 1)\n",
    "wrong_price = wrong_price[wrong_price.apply(len)>0]\n",
    "for wi in wrong_price.index:\n",
    "    if newdata.loc[wi,'Date'] == datetime.datetime.strptime('2018-03-19 00:00:00',\n",
    "                                                            '%Y-%m-%d %H:%M:%S'):\n",
    "        newdata.loc[wi,'Close'] = newdata.loc[wi,'High']\n",
    "        newdata.loc[wi,'Adj/Close'] =\\\n",
    "            newdata.loc[wi,'Adj Close']/newdata.loc[wi,'Close']\n",
    "    else:\n",
    "        w = wrong_price.loc[wi]\n",
    "        while len(w) > 0 :\n",
    "            if w[0] == '1': #Low > High\n",
    "                temp_max = newdata.loc[wi,'Open':'Close'].max()\n",
    "                temp_min = newdata.loc[wi,'Open':'Close'].min()\n",
    "                newdata.loc[wi,'High'] = temp_max\n",
    "                newdata.loc[wi,'Low'] = temp_min\n",
    "            elif w[0] == '2': #Close > High\n",
    "                newdata.loc[wi,'High'] = newdata.loc[wi,'Close']\n",
    "            elif w[0] == '3': #Close < Low\n",
    "                newdata.loc[wi,'Low'] = newdata.loc[wi,'Close']\n",
    "            elif w[0] == '4': #Open > High\n",
    "                newdata.loc[wi,'High'] = newdata.loc[wi,'Open']\n",
    "            elif w[0] == '5':\n",
    "                newdata.loc[wi,'Low'] = newdata.loc[wi,'Open']\n",
    "            else:\n",
    "                pass\n",
    "            w = price_correct_check(newdata.loc[wi])"
   ]
  },
  {
   "cell_type": "code",
   "execution_count": 40,
   "id": "9c98d791",
   "metadata": {},
   "outputs": [
    {
     "data": {
      "text/plain": [
       "False"
      ]
     },
     "execution_count": 40,
     "metadata": {},
     "output_type": "execute_result"
    }
   ],
   "source": [
    "(newdata.apply(lambda x: len(price_correct_check(x)), axis = 1)>0).any()"
   ]
  },
  {
   "cell_type": "markdown",
   "id": "35116ddd",
   "metadata": {},
   "source": [
    "## (3) c. abnormal \"Adj Close\" No 2 and 3"
   ]
  },
  {
   "cell_type": "code",
   "execution_count": 41,
   "id": "ccd1b7af",
   "metadata": {},
   "outputs": [
    {
     "data": {
      "text/html": [
       "<div>\n",
       "<style scoped>\n",
       "    .dataframe tbody tr th:only-of-type {\n",
       "        vertical-align: middle;\n",
       "    }\n",
       "\n",
       "    .dataframe tbody tr th {\n",
       "        vertical-align: top;\n",
       "    }\n",
       "\n",
       "    .dataframe thead th {\n",
       "        text-align: right;\n",
       "    }\n",
       "</style>\n",
       "<table border=\"1\" class=\"dataframe\">\n",
       "  <thead>\n",
       "    <tr style=\"text-align: right;\">\n",
       "      <th></th>\n",
       "      <th>Date</th>\n",
       "      <th>Signal</th>\n",
       "      <th>Open</th>\n",
       "      <th>High</th>\n",
       "      <th>Low</th>\n",
       "      <th>Close</th>\n",
       "      <th>Adj Close</th>\n",
       "      <th>Adj/Close</th>\n",
       "    </tr>\n",
       "  </thead>\n",
       "  <tbody>\n",
       "    <tr>\n",
       "      <th>339</th>\n",
       "      <td>2017-03-27</td>\n",
       "      <td>16.032241</td>\n",
       "      <td>132.759995</td>\n",
       "      <td>135.070007</td>\n",
       "      <td>132.399994</td>\n",
       "      <td>134.740005</td>\n",
       "      <td>158.577637</td>\n",
       "      <td>1.176916</td>\n",
       "    </tr>\n",
       "  </tbody>\n",
       "</table>\n",
       "</div>"
      ],
      "text/plain": [
       "          Date     Signal        Open        High         Low       Close  \\\n",
       "339 2017-03-27  16.032241  132.759995  135.070007  132.399994  134.740005   \n",
       "\n",
       "      Adj Close  Adj/Close  \n",
       "339  158.577637   1.176916  "
      ]
     },
     "execution_count": 41,
     "metadata": {},
     "output_type": "execute_result"
    }
   ],
   "source": [
    "newdata[newdata['Date'] == '2017-03-27']"
   ]
  },
  {
   "cell_type": "code",
   "execution_count": 42,
   "id": "25b71271",
   "metadata": {},
   "outputs": [
    {
     "data": {
      "text/html": [
       "<div>\n",
       "<style scoped>\n",
       "    .dataframe tbody tr th:only-of-type {\n",
       "        vertical-align: middle;\n",
       "    }\n",
       "\n",
       "    .dataframe tbody tr th {\n",
       "        vertical-align: top;\n",
       "    }\n",
       "\n",
       "    .dataframe thead th {\n",
       "        text-align: right;\n",
       "    }\n",
       "</style>\n",
       "<table border=\"1\" class=\"dataframe\">\n",
       "  <thead>\n",
       "    <tr style=\"text-align: right;\">\n",
       "      <th></th>\n",
       "      <th>Date</th>\n",
       "      <th>Signal</th>\n",
       "      <th>Open</th>\n",
       "      <th>High</th>\n",
       "      <th>Low</th>\n",
       "      <th>Close</th>\n",
       "      <th>Adj Close</th>\n",
       "      <th>Adj/Close</th>\n",
       "    </tr>\n",
       "  </thead>\n",
       "  <tbody>\n",
       "    <tr>\n",
       "      <th>337</th>\n",
       "      <td>2017-03-23</td>\n",
       "      <td>15.705048</td>\n",
       "      <td>134.000000</td>\n",
       "      <td>135.699997</td>\n",
       "      <td>133.639999</td>\n",
       "      <td>134.779999</td>\n",
       "      <td>128.246490</td>\n",
       "      <td>0.951525</td>\n",
       "    </tr>\n",
       "    <tr>\n",
       "      <th>338</th>\n",
       "      <td>2017-03-24</td>\n",
       "      <td>15.131940</td>\n",
       "      <td>134.949997</td>\n",
       "      <td>135.470001</td>\n",
       "      <td>133.860001</td>\n",
       "      <td>134.490005</td>\n",
       "      <td>128.339050</td>\n",
       "      <td>0.954265</td>\n",
       "    </tr>\n",
       "    <tr>\n",
       "      <th>339</th>\n",
       "      <td>2017-03-27</td>\n",
       "      <td>16.032241</td>\n",
       "      <td>132.759995</td>\n",
       "      <td>135.070007</td>\n",
       "      <td>132.399994</td>\n",
       "      <td>134.740005</td>\n",
       "      <td>128.577671</td>\n",
       "      <td>0.954265</td>\n",
       "    </tr>\n",
       "    <tr>\n",
       "      <th>340</th>\n",
       "      <td>2017-03-28</td>\n",
       "      <td>16.215369</td>\n",
       "      <td>134.279999</td>\n",
       "      <td>135.899994</td>\n",
       "      <td>134.139999</td>\n",
       "      <td>135.789993</td>\n",
       "      <td>129.579605</td>\n",
       "      <td>0.954265</td>\n",
       "    </tr>\n",
       "    <tr>\n",
       "      <th>341</th>\n",
       "      <td>2017-03-29</td>\n",
       "      <td>15.265496</td>\n",
       "      <td>135.699997</td>\n",
       "      <td>136.490005</td>\n",
       "      <td>135.300003</td>\n",
       "      <td>136.229996</td>\n",
       "      <td>129.999481</td>\n",
       "      <td>0.954265</td>\n",
       "    </tr>\n",
       "  </tbody>\n",
       "</table>\n",
       "</div>"
      ],
      "text/plain": [
       "          Date     Signal        Open        High         Low       Close  \\\n",
       "337 2017-03-23  15.705048  134.000000  135.699997  133.639999  134.779999   \n",
       "338 2017-03-24  15.131940  134.949997  135.470001  133.860001  134.490005   \n",
       "339 2017-03-27  16.032241  132.759995  135.070007  132.399994  134.740005   \n",
       "340 2017-03-28  16.215369  134.279999  135.899994  134.139999  135.789993   \n",
       "341 2017-03-29  15.265496  135.699997  136.490005  135.300003  136.229996   \n",
       "\n",
       "      Adj Close  Adj/Close  \n",
       "337  128.246490   0.951525  \n",
       "338  128.339050   0.954265  \n",
       "339  128.577671   0.954265  \n",
       "340  129.579605   0.954265  \n",
       "341  129.999481   0.954265  "
      ]
     },
     "execution_count": 42,
     "metadata": {},
     "output_type": "execute_result"
    }
   ],
   "source": [
    "newdata.loc[339,'Adj Close'] = 0.954265 * newdata.loc[339,'Close']\n",
    "newdata.loc[339,'Adj/Close'] = newdata.loc[339,'Adj Close']/newdata.loc[339,'Close']\n",
    "newdata[336:].head()"
   ]
  },
  {
   "cell_type": "code",
   "execution_count": 43,
   "id": "25354c92",
   "metadata": {},
   "outputs": [
    {
     "data": {
      "text/html": [
       "<div>\n",
       "<style scoped>\n",
       "    .dataframe tbody tr th:only-of-type {\n",
       "        vertical-align: middle;\n",
       "    }\n",
       "\n",
       "    .dataframe tbody tr th {\n",
       "        vertical-align: top;\n",
       "    }\n",
       "\n",
       "    .dataframe thead th {\n",
       "        text-align: right;\n",
       "    }\n",
       "</style>\n",
       "<table border=\"1\" class=\"dataframe\">\n",
       "  <thead>\n",
       "    <tr style=\"text-align: right;\">\n",
       "      <th></th>\n",
       "      <th>Date</th>\n",
       "      <th>Signal</th>\n",
       "      <th>Open</th>\n",
       "      <th>High</th>\n",
       "      <th>Low</th>\n",
       "      <th>Close</th>\n",
       "      <th>Adj Close</th>\n",
       "      <th>Adj/Close</th>\n",
       "    </tr>\n",
       "  </thead>\n",
       "  <tbody>\n",
       "    <tr>\n",
       "      <th>263</th>\n",
       "      <td>2016-12-05</td>\n",
       "      <td>16.011011</td>\n",
       "      <td>131.970001</td>\n",
       "      <td>133.330002</td>\n",
       "      <td>131.889999</td>\n",
       "      <td>133.149994</td>\n",
       "      <td>166.175079</td>\n",
       "      <td>1.248029</td>\n",
       "    </tr>\n",
       "  </tbody>\n",
       "</table>\n",
       "</div>"
      ],
      "text/plain": [
       "          Date     Signal        Open        High         Low       Close  \\\n",
       "263 2016-12-05  16.011011  131.970001  133.330002  131.889999  133.149994   \n",
       "\n",
       "      Adj Close  Adj/Close  \n",
       "263  166.175079   1.248029  "
      ]
     },
     "execution_count": 43,
     "metadata": {},
     "output_type": "execute_result"
    }
   ],
   "source": [
    "newdata[newdata['Date'] == '2016-12-05']"
   ]
  },
  {
   "cell_type": "code",
   "execution_count": 44,
   "id": "5c42169a",
   "metadata": {},
   "outputs": [
    {
     "data": {
      "text/html": [
       "<div>\n",
       "<style scoped>\n",
       "    .dataframe tbody tr th:only-of-type {\n",
       "        vertical-align: middle;\n",
       "    }\n",
       "\n",
       "    .dataframe tbody tr th {\n",
       "        vertical-align: top;\n",
       "    }\n",
       "\n",
       "    .dataframe thead th {\n",
       "        text-align: right;\n",
       "    }\n",
       "</style>\n",
       "<table border=\"1\" class=\"dataframe\">\n",
       "  <thead>\n",
       "    <tr style=\"text-align: right;\">\n",
       "      <th></th>\n",
       "      <th>Date</th>\n",
       "      <th>Signal</th>\n",
       "      <th>Open</th>\n",
       "      <th>High</th>\n",
       "      <th>Low</th>\n",
       "      <th>Close</th>\n",
       "      <th>Adj Close</th>\n",
       "      <th>Adj/Close</th>\n",
       "    </tr>\n",
       "  </thead>\n",
       "  <tbody>\n",
       "    <tr>\n",
       "      <th>261</th>\n",
       "      <td>2016-12-01</td>\n",
       "      <td>15.304759</td>\n",
       "      <td>132.250000</td>\n",
       "      <td>132.550003</td>\n",
       "      <td>130.289993</td>\n",
       "      <td>130.970001</td>\n",
       "      <td>124.109283</td>\n",
       "      <td>0.947616</td>\n",
       "    </tr>\n",
       "    <tr>\n",
       "      <th>262</th>\n",
       "      <td>2016-12-02</td>\n",
       "      <td>14.990113</td>\n",
       "      <td>130.940002</td>\n",
       "      <td>131.470001</td>\n",
       "      <td>130.520004</td>\n",
       "      <td>130.899994</td>\n",
       "      <td>124.042938</td>\n",
       "      <td>0.947616</td>\n",
       "    </tr>\n",
       "    <tr>\n",
       "      <th>263</th>\n",
       "      <td>2016-12-05</td>\n",
       "      <td>16.011011</td>\n",
       "      <td>131.970001</td>\n",
       "      <td>133.330002</td>\n",
       "      <td>131.889999</td>\n",
       "      <td>133.149994</td>\n",
       "      <td>126.175065</td>\n",
       "      <td>0.947616</td>\n",
       "    </tr>\n",
       "    <tr>\n",
       "      <th>264</th>\n",
       "      <td>2016-12-06</td>\n",
       "      <td>15.885051</td>\n",
       "      <td>133.520004</td>\n",
       "      <td>134.910004</td>\n",
       "      <td>132.740005</td>\n",
       "      <td>134.589996</td>\n",
       "      <td>127.539658</td>\n",
       "      <td>0.947616</td>\n",
       "    </tr>\n",
       "    <tr>\n",
       "      <th>265</th>\n",
       "      <td>2016-12-07</td>\n",
       "      <td>15.406135</td>\n",
       "      <td>134.589996</td>\n",
       "      <td>136.179993</td>\n",
       "      <td>134.179993</td>\n",
       "      <td>135.899994</td>\n",
       "      <td>128.781036</td>\n",
       "      <td>0.947616</td>\n",
       "    </tr>\n",
       "  </tbody>\n",
       "</table>\n",
       "</div>"
      ],
      "text/plain": [
       "          Date     Signal        Open        High         Low       Close  \\\n",
       "261 2016-12-01  15.304759  132.250000  132.550003  130.289993  130.970001   \n",
       "262 2016-12-02  14.990113  130.940002  131.470001  130.520004  130.899994   \n",
       "263 2016-12-05  16.011011  131.970001  133.330002  131.889999  133.149994   \n",
       "264 2016-12-06  15.885051  133.520004  134.910004  132.740005  134.589996   \n",
       "265 2016-12-07  15.406135  134.589996  136.179993  134.179993  135.899994   \n",
       "\n",
       "      Adj Close  Adj/Close  \n",
       "261  124.109283   0.947616  \n",
       "262  124.042938   0.947616  \n",
       "263  126.175065   0.947616  \n",
       "264  127.539658   0.947616  \n",
       "265  128.781036   0.947616  "
      ]
     },
     "execution_count": 44,
     "metadata": {},
     "output_type": "execute_result"
    }
   ],
   "source": [
    "newdata.loc[263,'Adj Close'] = 0.947616 * newdata.loc[263,'Close']\n",
    "newdata.loc[263,'Adj/Close'] = newdata.loc[263,'Adj Close']/newdata.loc[263,'Close']\n",
    "newdata[260:].head()"
   ]
  },
  {
   "cell_type": "markdown",
   "id": "3f818c0b",
   "metadata": {},
   "source": [
    "Corrected sample data saved as \"Sample Dataset_corrected.csv\""
   ]
  },
  {
   "cell_type": "code",
   "execution_count": 45,
   "id": "ceeba3aa",
   "metadata": {},
   "outputs": [],
   "source": [
    "newdata.to_csv('Sample Dataset_corrected.csv')"
   ]
  }
 ],
 "metadata": {
  "kernelspec": {
   "display_name": "Python 3 (ipykernel)",
   "language": "python",
   "name": "python3"
  },
  "language_info": {
   "codemirror_mode": {
    "name": "ipython",
    "version": 3
   },
   "file_extension": ".py",
   "mimetype": "text/x-python",
   "name": "python",
   "nbconvert_exporter": "python",
   "pygments_lexer": "ipython3",
   "version": "3.8.8"
  }
 },
 "nbformat": 4,
 "nbformat_minor": 5
}
