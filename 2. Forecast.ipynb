{
 "cells": [
  {
   "cell_type": "markdown",
   "metadata": {},
   "source": [
    "# 2.\tPlease analyze the signal’s effectiveness or lack thereof in forecasting ETF price, using whatever metrics you think are most relevant."
   ]
  },
  {
   "cell_type": "code",
   "execution_count": 1,
   "metadata": {},
   "outputs": [],
   "source": [
    "import pandas as pd\n",
    "import numpy as np\n",
    "import matplotlib.pyplot as plt\n",
    "from sklearn import linear_model\n",
    "from sklearn.model_selection import train_test_split\n",
    "from sklearn.model_selection import cross_val_score\n",
    "from statsmodels.graphics.tsaplots import plot_acf, plot_pacf\n",
    "import matplotlib as mpl\n",
    "import seaborn as sns\n",
    "from statsmodels.tsa.stattools import adfuller\n",
    "import warnings\n",
    "warnings.filterwarnings(\"ignore\", category=DeprecationWarning)\n",
    "pd.options.mode.chained_assignment = None"
   ]
  },
  {
   "cell_type": "code",
   "execution_count": 2,
   "metadata": {},
   "outputs": [],
   "source": [
    "iwm = pd.read_csv('IWM 19Nov2015-06Jan2020.csv')\n",
    "iwm = iwm.set_index(['Date'])\n",
    "signal = pd.read_csv('Sample Dataset_corrected.csv')\n",
    "signal = signal.set_index(['Date'])"
   ]
  },
  {
   "cell_type": "code",
   "execution_count": 3,
   "metadata": {},
   "outputs": [
    {
     "data": {
      "text/html": [
       "<div>\n",
       "<style scoped>\n",
       "    .dataframe tbody tr th:only-of-type {\n",
       "        vertical-align: middle;\n",
       "    }\n",
       "\n",
       "    .dataframe tbody tr th {\n",
       "        vertical-align: top;\n",
       "    }\n",
       "\n",
       "    .dataframe thead th {\n",
       "        text-align: right;\n",
       "    }\n",
       "</style>\n",
       "<table border=\"1\" class=\"dataframe\">\n",
       "  <thead>\n",
       "    <tr style=\"text-align: right;\">\n",
       "      <th></th>\n",
       "      <th>Signal</th>\n",
       "      <th>Open</th>\n",
       "      <th>High</th>\n",
       "      <th>Low</th>\n",
       "      <th>Close</th>\n",
       "      <th>Adj Close</th>\n",
       "    </tr>\n",
       "    <tr>\n",
       "      <th>Date</th>\n",
       "      <th></th>\n",
       "      <th></th>\n",
       "      <th></th>\n",
       "      <th></th>\n",
       "      <th></th>\n",
       "      <th></th>\n",
       "    </tr>\n",
       "  </thead>\n",
       "  <tbody>\n",
       "    <tr>\n",
       "      <th>2015-11-19</th>\n",
       "      <td>13.768540</td>\n",
       "      <td>116.440002</td>\n",
       "      <td>116.650002</td>\n",
       "      <td>115.739998</td>\n",
       "      <td>116.059998</td>\n",
       "      <td>107.580505</td>\n",
       "    </tr>\n",
       "    <tr>\n",
       "      <th>2015-11-20</th>\n",
       "      <td>13.608819</td>\n",
       "      <td>116.480003</td>\n",
       "      <td>117.360001</td>\n",
       "      <td>116.379997</td>\n",
       "      <td>116.809998</td>\n",
       "      <td>108.275726</td>\n",
       "    </tr>\n",
       "    <tr>\n",
       "      <th>2015-11-23</th>\n",
       "      <td>12.990589</td>\n",
       "      <td>116.709999</td>\n",
       "      <td>117.889999</td>\n",
       "      <td>116.680000</td>\n",
       "      <td>117.389999</td>\n",
       "      <td>108.813324</td>\n",
       "    </tr>\n",
       "    <tr>\n",
       "      <th>2015-11-24</th>\n",
       "      <td>12.667435</td>\n",
       "      <td>116.879997</td>\n",
       "      <td>118.419998</td>\n",
       "      <td>116.559998</td>\n",
       "      <td>118.250000</td>\n",
       "      <td>109.610512</td>\n",
       "    </tr>\n",
       "    <tr>\n",
       "      <th>2015-11-25</th>\n",
       "      <td>13.019910</td>\n",
       "      <td>118.300003</td>\n",
       "      <td>119.320000</td>\n",
       "      <td>118.110001</td>\n",
       "      <td>119.169998</td>\n",
       "      <td>110.463310</td>\n",
       "    </tr>\n",
       "  </tbody>\n",
       "</table>\n",
       "</div>"
      ],
      "text/plain": [
       "               Signal        Open        High         Low       Close  \\\n",
       "Date                                                                    \n",
       "2015-11-19  13.768540  116.440002  116.650002  115.739998  116.059998   \n",
       "2015-11-20  13.608819  116.480003  117.360001  116.379997  116.809998   \n",
       "2015-11-23  12.990589  116.709999  117.889999  116.680000  117.389999   \n",
       "2015-11-24  12.667435  116.879997  118.419998  116.559998  118.250000   \n",
       "2015-11-25  13.019910  118.300003  119.320000  118.110001  119.169998   \n",
       "\n",
       "             Adj Close  \n",
       "Date                    \n",
       "2015-11-19  107.580505  \n",
       "2015-11-20  108.275726  \n",
       "2015-11-23  108.813324  \n",
       "2015-11-24  109.610512  \n",
       "2015-11-25  110.463310  "
      ]
     },
     "execution_count": 3,
     "metadata": {},
     "output_type": "execute_result"
    }
   ],
   "source": [
    "data = pd.concat([signal['Signal'],iwm.loc[:,'Open':'Adj Close']],axis = 1)\n",
    "data.head()"
   ]
  },
  {
   "cell_type": "markdown",
   "metadata": {},
   "source": [
    "Remove outliers"
   ]
  },
  {
   "cell_type": "code",
   "execution_count": 4,
   "metadata": {},
   "outputs": [
    {
     "data": {
      "text/plain": [
       "['2018-11-12',\n",
       " '2018-11-13',\n",
       " '2018-11-14',\n",
       " '2018-11-15',\n",
       " '2018-11-16',\n",
       " '2019-12-27',\n",
       " '2019-12-30',\n",
       " '2019-12-31',\n",
       " '2020-01-02',\n",
       " '2020-01-03',\n",
       " '2020-01-06',\n",
       " '2017-11-13']"
      ]
     },
     "execution_count": 4,
     "metadata": {},
     "output_type": "execute_result"
    }
   ],
   "source": [
    "rem_index = list(data[data['Signal']==0].index)\n",
    "rem_index += list(data[data['Signal']>30].index)\n",
    "rem_index"
   ]
  },
  {
   "cell_type": "code",
   "execution_count": 5,
   "metadata": {},
   "outputs": [],
   "source": [
    "data = data.drop(index = rem_index)"
   ]
  },
  {
   "cell_type": "markdown",
   "metadata": {},
   "source": [
    "# correlation"
   ]
  },
  {
   "cell_type": "code",
   "execution_count": 6,
   "metadata": {},
   "outputs": [
    {
     "data": {
      "text/plain": [
       "[<matplotlib.lines.Line2D at 0x1313d7e67c0>]"
      ]
     },
     "execution_count": 6,
     "metadata": {},
     "output_type": "execute_result"
    },
    {
     "data": {
      "image/png": "[encoded data removed]",
      "text/plain": [
       "<Figure size 432x288 with 1 Axes>"
      ]
     },
     "metadata": {
      "needs_background": "light"
     },
     "output_type": "display_data"
    }
   ],
   "source": [
    "plt.plot(data['Signal'],data['Close'],'.')"
   ]
  },
  {
   "cell_type": "code",
   "execution_count": 7,
   "metadata": {},
   "outputs": [
    {
     "data": {
      "text/plain": [
       "array([[1.       , 0.9497295],\n",
       "       [0.9497295, 1.       ]])"
      ]
     },
     "execution_count": 7,
     "metadata": {},
     "output_type": "execute_result"
    }
   ],
   "source": [
    "np.corrcoef(data['Signal'],data['Close'])"
   ]
  },
  {
   "cell_type": "markdown",
   "metadata": {},
   "source": [
    "np.corrcoef(np.diff(np.log(np.array(data['Signal']))),np.diff(np.log(np.array(data['Close']))))"
   ]
  },
  {
   "cell_type": "markdown",
   "metadata": {},
   "source": [
    "So signal is highly correlated to the price instead of the return."
   ]
  },
  {
   "cell_type": "markdown",
   "metadata": {},
   "source": [
    "# For prediction accuracy, assuming same day prediction"
   ]
  },
  {
   "cell_type": "markdown",
   "metadata": {},
   "source": [
    "## OLS Regression, y = Close, x = Signal"
   ]
  },
  {
   "cell_type": "markdown",
   "metadata": {},
   "source": [
    "Model: y = Intercept + Beta * x"
   ]
  },
  {
   "cell_type": "code",
   "execution_count": 8,
   "metadata": {},
   "outputs": [],
   "source": [
    "x = np.array(data['Signal']).reshape(-1,1)\n",
    "y = np.array(data['Close'])"
   ]
  },
  {
   "cell_type": "markdown",
   "metadata": {},
   "source": [
    "First split the dataset to a training set and testing set to avoid overfitting"
   ]
  },
  {
   "cell_type": "code",
   "execution_count": 9,
   "metadata": {},
   "outputs": [],
   "source": [
    "x_train, x_test, y_train, y_test = train_test_split(x, y, \n",
    "                                                    test_size=0.3, \n",
    "                                                    random_state=1000)"
   ]
  },
  {
   "cell_type": "code",
   "execution_count": 10,
   "metadata": {},
   "outputs": [
    {
     "name": "stdout",
     "output_type": "stream",
     "text": [
      "Training score: 0.9037\n",
      "Testing score: 0.8965\n"
     ]
    }
   ],
   "source": [
    "reg = linear_model.LinearRegression()\n",
    "reg.fit(x_train,y_train)\n",
    "print(\"Training score: {0:.4f}\".format(reg.score(x_train,y_train)))\n",
    "print(\"Testing score: {0:.4f}\".format(reg.score(x_test,y_test)))"
   ]
  },
  {
   "cell_type": "markdown",
   "metadata": {},
   "source": [
    "Then using ross validation with 5 folds to get average score for model selection"
   ]
  },
  {
   "cell_type": "code",
   "execution_count": 11,
   "metadata": {},
   "outputs": [
    {
     "name": "stdout",
     "output_type": "stream",
     "text": [
      "CV scores: [0.93345947 0.86396863 0.93366493 0.86284979 0.90840444]\n",
      "CV mean score: 0.9005\n"
     ]
    }
   ],
   "source": [
    "lin_scores = cross_val_score(reg, x_train,y_train,cv=5)\n",
    "print(\"CV scores: {}\".format(lin_scores))\n",
    "print(\"CV mean score: {0:.4f}\".format(np.mean(lin_scores)))"
   ]
  },
  {
   "cell_type": "markdown",
   "metadata": {},
   "source": [
    "Prediction accuracy for direction"
   ]
  },
  {
   "cell_type": "code",
   "execution_count": 12,
   "metadata": {},
   "outputs": [
    {
     "name": "stdout",
     "output_type": "stream",
     "text": [
      "Percentage of accurate predictions: 47.4146%\n"
     ]
    }
   ],
   "source": [
    "y_pred = reg.predict(x)\n",
    "same_dir = np.where(np.multiply(np.diff(y_pred),np.diff(y))>0,1,0)\n",
    "print(\"Percentage of accurate predictions: {0:.4%}\".format(\\\n",
    "        sum(same_dir)/(len(y_pred)-1)))"
   ]
  },
  {
   "cell_type": "markdown",
   "metadata": {},
   "source": [
    "Mean absolute error and Mean squared error"
   ]
  },
  {
   "cell_type": "code",
   "execution_count": 13,
   "metadata": {},
   "outputs": [
    {
     "name": "stdout",
     "output_type": "stream",
     "text": [
      "MAE: 4.3113, MSE: 33.1447\n"
     ]
    }
   ],
   "source": [
    "print(\"MAE: {0:.4f}, MSE: {1:.4f}\".format(np.mean(np.abs(y_pred - y))\n",
    "                                          ,np.mean((y_pred - y)**2)))"
   ]
  },
  {
   "cell_type": "markdown",
   "metadata": {},
   "source": [
    "Complied in function to evaluate more models:"
   ]
  },
  {
   "cell_type": "code",
   "execution_count": 14,
   "metadata": {},
   "outputs": [],
   "source": [
    "def reg_model(x,y):\n",
    "    res = []\n",
    "    x_train, x_test, y_train, y_test = train_test_split(x, y,\n",
    "                                                        test_size=0.3, \n",
    "                                                        random_state=11)\n",
    "    reg = linear_model.LinearRegression()\n",
    "    reg.fit(x_train,y_train)\n",
    "    #training score\n",
    "    res.append(reg.score(x_train,y_train))\n",
    "    #cross validation score\n",
    "    lin_scores = cross_val_score(reg, x_train,y_train,cv=5)\n",
    "    res.append(np.mean(lin_scores))\n",
    "    #test score\n",
    "    res.append(reg.score(x_test,y_test))\n",
    "    #prediction accuracy for direction\n",
    "    y_pred = reg.predict(x)\n",
    "    same_dir = np.where(np.diff(y_pred)>0,1,0) == np.where(np.diff(y)>0,1,0)\n",
    "    res.append(sum(same_dir)/(len(y_pred)-1))\n",
    "    #Mean Abs error\n",
    "    res.append(np.mean(np.abs(y_pred - y)))\n",
    "    #Mean squared error\n",
    "    res.append(np.mean((y_pred - y)**2))\n",
    "    \n",
    "    return res"
   ]
  },
  {
   "cell_type": "code",
   "execution_count": 15,
   "metadata": {},
   "outputs": [],
   "source": [
    "res = pd.DataFrame(index = ['Training Score','Cross Val Score',\n",
    "                            'Test Score', 'Pred Dir Accuracy',\n",
    "                            'MAE','MSE'])"
   ]
  },
  {
   "cell_type": "code",
   "execution_count": 16,
   "metadata": {},
   "outputs": [
    {
     "data": {
      "text/html": [
       "<div>\n",
       "<style scoped>\n",
       "    .dataframe tbody tr th:only-of-type {\n",
       "        vertical-align: middle;\n",
       "    }\n",
       "\n",
       "    .dataframe tbody tr th {\n",
       "        vertical-align: top;\n",
       "    }\n",
       "\n",
       "    .dataframe thead th {\n",
       "        text-align: right;\n",
       "    }\n",
       "</style>\n",
       "<table border=\"1\" class=\"dataframe\">\n",
       "  <thead>\n",
       "    <tr style=\"text-align: right;\">\n",
       "      <th></th>\n",
       "      <th>OLS</th>\n",
       "    </tr>\n",
       "  </thead>\n",
       "  <tbody>\n",
       "    <tr>\n",
       "      <th>Training Score</th>\n",
       "      <td>0.899328</td>\n",
       "    </tr>\n",
       "    <tr>\n",
       "      <th>Cross Val Score</th>\n",
       "      <td>0.897022</td>\n",
       "    </tr>\n",
       "    <tr>\n",
       "      <th>Test Score</th>\n",
       "      <td>0.908022</td>\n",
       "    </tr>\n",
       "    <tr>\n",
       "      <th>Pred Dir Accuracy</th>\n",
       "      <td>0.475122</td>\n",
       "    </tr>\n",
       "    <tr>\n",
       "      <th>MAE</th>\n",
       "      <td>4.313130</td>\n",
       "    </tr>\n",
       "    <tr>\n",
       "      <th>MSE</th>\n",
       "      <td>33.134756</td>\n",
       "    </tr>\n",
       "  </tbody>\n",
       "</table>\n",
       "</div>"
      ],
      "text/plain": [
       "                         OLS\n",
       "Training Score      0.899328\n",
       "Cross Val Score     0.897022\n",
       "Test Score          0.908022\n",
       "Pred Dir Accuracy   0.475122\n",
       "MAE                 4.313130\n",
       "MSE                33.134756"
      ]
     },
     "execution_count": 16,
     "metadata": {},
     "output_type": "execute_result"
    }
   ],
   "source": [
    "res['OLS'] = reg_model(x,y)\n",
    "res"
   ]
  },
  {
   "cell_type": "markdown",
   "metadata": {},
   "source": [
    "## polynomial regression"
   ]
  },
  {
   "cell_type": "markdown",
   "metadata": {},
   "source": [
    "Second order: y = Intercept + Beta1 * x + Beta2 * x^2"
   ]
  },
  {
   "cell_type": "code",
   "execution_count": 17,
   "metadata": {},
   "outputs": [],
   "source": [
    "x_poly_2 = np.concatenate((x,x**2),axis=1)\n",
    "res['OLS-Poly2'] = reg_model(x_poly_2,y) "
   ]
  },
  {
   "cell_type": "markdown",
   "metadata": {},
   "source": [
    "Thrid order: y = Intercept + Beta1 * x + Beta2 * x^2 + Beta3 * x^3"
   ]
  },
  {
   "cell_type": "code",
   "execution_count": 18,
   "metadata": {},
   "outputs": [],
   "source": [
    "x_poly_3 = np.concatenate((x,x**2,x**3),axis=1)\n",
    "res['OLS-Poly3'] = reg_model(x_poly_3,y)"
   ]
  },
  {
   "cell_type": "markdown",
   "metadata": {},
   "source": [
    "## Signal and Open - last day Close for intraday prediction"
   ]
  },
  {
   "cell_type": "markdown",
   "metadata": {},
   "source": [
    "Model: y = Intercept + Beta1 * x + Beta2 * [Open at (T) day - Close at (T-1) day]"
   ]
  },
  {
   "cell_type": "code",
   "execution_count": 19,
   "metadata": {},
   "outputs": [],
   "source": [
    "xo = np.concatenate((np.array(data['Signal'])[1:].reshape(-1,1),\n",
    "                     (np.array(data['Open'][1:])\\\n",
    "                      - np.array(data['Close'][:-1])).reshape(-1,1)),\n",
    "                    axis = 1)\n",
    "yo = np.array(data['Close'])[1:]"
   ]
  },
  {
   "cell_type": "code",
   "execution_count": 20,
   "metadata": {},
   "outputs": [],
   "source": [
    "res['Sig,Open-Close']=reg_model(xo,yo)"
   ]
  },
  {
   "cell_type": "code",
   "execution_count": 21,
   "metadata": {},
   "outputs": [
    {
     "data": {
      "text/html": [
       "<div>\n",
       "<style scoped>\n",
       "    .dataframe tbody tr th:only-of-type {\n",
       "        vertical-align: middle;\n",
       "    }\n",
       "\n",
       "    .dataframe tbody tr th {\n",
       "        vertical-align: top;\n",
       "    }\n",
       "\n",
       "    .dataframe thead th {\n",
       "        text-align: right;\n",
       "    }\n",
       "</style>\n",
       "<table border=\"1\" class=\"dataframe\">\n",
       "  <thead>\n",
       "    <tr style=\"text-align: right;\">\n",
       "      <th></th>\n",
       "      <th>OLS</th>\n",
       "      <th>OLS-Poly2</th>\n",
       "      <th>OLS-Poly3</th>\n",
       "      <th>Sig,Open-Close</th>\n",
       "    </tr>\n",
       "  </thead>\n",
       "  <tbody>\n",
       "    <tr>\n",
       "      <th>Training Score</th>\n",
       "      <td>0.899328</td>\n",
       "      <td>0.917690</td>\n",
       "      <td>0.917987</td>\n",
       "      <td>0.898230</td>\n",
       "    </tr>\n",
       "    <tr>\n",
       "      <th>Cross Val Score</th>\n",
       "      <td>0.897022</td>\n",
       "      <td>0.914870</td>\n",
       "      <td>0.913681</td>\n",
       "      <td>0.894660</td>\n",
       "    </tr>\n",
       "    <tr>\n",
       "      <th>Test Score</th>\n",
       "      <td>0.908022</td>\n",
       "      <td>0.923147</td>\n",
       "      <td>0.922986</td>\n",
       "      <td>0.909578</td>\n",
       "    </tr>\n",
       "    <tr>\n",
       "      <th>Pred Dir Accuracy</th>\n",
       "      <td>0.475122</td>\n",
       "      <td>0.475122</td>\n",
       "      <td>0.475122</td>\n",
       "      <td>0.473633</td>\n",
       "    </tr>\n",
       "    <tr>\n",
       "      <th>MAE</th>\n",
       "      <td>4.313130</td>\n",
       "      <td>3.962962</td>\n",
       "      <td>3.960450</td>\n",
       "      <td>4.323924</td>\n",
       "    </tr>\n",
       "    <tr>\n",
       "      <th>MSE</th>\n",
       "      <td>33.134756</td>\n",
       "      <td>27.255578</td>\n",
       "      <td>27.200902</td>\n",
       "      <td>33.185884</td>\n",
       "    </tr>\n",
       "  </tbody>\n",
       "</table>\n",
       "</div>"
      ],
      "text/plain": [
       "                         OLS  OLS-Poly2  OLS-Poly3  Sig,Open-Close\n",
       "Training Score      0.899328   0.917690   0.917987        0.898230\n",
       "Cross Val Score     0.897022   0.914870   0.913681        0.894660\n",
       "Test Score          0.908022   0.923147   0.922986        0.909578\n",
       "Pred Dir Accuracy   0.475122   0.475122   0.475122        0.473633\n",
       "MAE                 4.313130   3.962962   3.960450        4.323924\n",
       "MSE                33.134756  27.255578  27.200902       33.185884"
      ]
     },
     "execution_count": 21,
     "metadata": {},
     "output_type": "execute_result"
    }
   ],
   "source": [
    "res"
   ]
  },
  {
   "cell_type": "markdown",
   "metadata": {},
   "source": [
    "## Time Series model"
   ]
  },
  {
   "cell_type": "markdown",
   "metadata": {},
   "source": [
    "For prices data, it worth to try time series model, first step is to stationize the data by take first order difference of it:"
   ]
  },
  {
   "cell_type": "code",
   "execution_count": 22,
   "metadata": {},
   "outputs": [],
   "source": [
    "df = np.diff(data['Close'])"
   ]
  },
  {
   "cell_type": "markdown",
   "metadata": {},
   "source": [
    "Then run unit root test to test for stationarity"
   ]
  },
  {
   "cell_type": "code",
   "execution_count": 23,
   "metadata": {},
   "outputs": [
    {
     "name": "stdout",
     "output_type": "stream",
     "text": [
      "ADF Statistic: -32.110516\n",
      "p-value: 0.000000\n",
      "Critical Values:\n",
      "\t1%: -3.437\n",
      "\t5%: -2.864\n",
      "\t10%: -2.568\n"
     ]
    }
   ],
   "source": [
    "result = adfuller(df)\n",
    "print('ADF Statistic: %f' % result[0])\n",
    "print('p-value: %f' % result[1])\n",
    "print('Critical Values:')\n",
    "for key, value in result[4].items():\n",
    "\tprint('\\t%s: %.3f' % (key, value))"
   ]
  },
  {
   "cell_type": "markdown",
   "metadata": {},
   "source": [
    "The statistic is very small compared to the different level of critical values, so can say that **the difference of \"Close\" is stationary.**"
   ]
  },
  {
   "cell_type": "markdown",
   "metadata": {},
   "source": [
    "Then is to determine how many lags to included in the model, using acf (auto-correlation function) plot and pacf (partial auto-correlation function) plot:"
   ]
  },
  {
   "cell_type": "code",
   "execution_count": 24,
   "metadata": {},
   "outputs": [
    {
     "data": {
      "image/png": "[encoded data removed]",
      "text/plain": [
       "<Figure size 1280x480 with 2 Axes>"
      ]
     },
     "metadata": {},
     "output_type": "display_data"
    }
   ],
   "source": [
    "large = 22; med = 16; small = 12\n",
    "params = {'axes.titlesize': large,\n",
    "          'legend.fontsize': med,\n",
    "          'figure.figsize': (16, 10),\n",
    "          'axes.labelsize': med,\n",
    "          'axes.titlesize': med,\n",
    "          'xtick.labelsize': med,\n",
    "          'ytick.labelsize': med,\n",
    "          'figure.titlesize': large}\n",
    "plt.rcParams.update(params)\n",
    "plt.style.use('seaborn-whitegrid')\n",
    "sns.set_style(\"white\")\n",
    "\n",
    "fig, (ax1, ax2) = plt.subplots(1, 2,figsize=(16,6), dpi= 80)\n",
    "plot_acf(df, ax=ax1, lags=50)\n",
    "plot_pacf(df, ax=ax2, lags=20)\n",
    "\n",
    "\n",
    "ax1.spines[\"top\"].set_alpha(.3); ax2.spines[\"top\"].set_alpha(.3)\n",
    "ax1.spines[\"bottom\"].set_alpha(.3); ax2.spines[\"bottom\"].set_alpha(.3)\n",
    "ax1.spines[\"right\"].set_alpha(.3); ax2.spines[\"right\"].set_alpha(.3)\n",
    "ax1.spines[\"left\"].set_alpha(.3); ax2.spines[\"left\"].set_alpha(.3)\n",
    "\n",
    "\n",
    "ax1.tick_params(axis='both', labelsize=12)\n",
    "ax2.tick_params(axis='both', labelsize=12)\n",
    "plt.show()"
   ]
  },
  {
   "cell_type": "markdown",
   "metadata": {},
   "source": [
    "From the graphs, it is suggested that no lags are significant for \"Close\". But I still try 3 different models"
   ]
  },
  {
   "cell_type": "markdown",
   "metadata": {},
   "source": [
    "1. Close(T) = Intercept + Signal(T) + Signal(T-1) + Close(T-1)"
   ]
  },
  {
   "cell_type": "code",
   "execution_count": 25,
   "metadata": {},
   "outputs": [],
   "source": [
    "y = np.array(data['Close'])[1:]\n",
    "x1 = np.array(data['Signal'])[1:].reshape(-1,1)\n",
    "x2 = np.array(data['Signal'])[:-1].reshape(-1,1)\n",
    "x3 = np.array(data['Close'])[:-1].reshape(-1,1)\n",
    "x = np.concatenate((x1,x2,x3),axis=1)\n",
    "\n",
    "res['TS(T-1)']=reg_model(x,y)"
   ]
  },
  {
   "cell_type": "markdown",
   "metadata": {},
   "source": [
    "2. Close(T) = Intercept + Signal(T) + Signal(T-1) + Signal(T-2) + Close(T-1) + Close(T-2)"
   ]
  },
  {
   "cell_type": "code",
   "execution_count": 26,
   "metadata": {},
   "outputs": [],
   "source": [
    "y = np.array(data['Close'])[2:]\n",
    "x1 = np.array(data['Signal'])[2:].reshape(-1,1)\n",
    "x2 = np.array(data['Signal'])[1:-1].reshape(-1,1)\n",
    "x3 = np.array(data['Signal'])[:-2].reshape(-1,1)\n",
    "x4 = np.array(data['Close'])[1:-1].reshape(-1,1)\n",
    "x5 = np.array(data['Close'])[:-2].reshape(-1,1)\n",
    "x = np.concatenate((x1,x2,x3,x4,x5),axis=1)\n",
    "\n",
    "res['TS(T-2)']=reg_model(x,y)"
   ]
  },
  {
   "cell_type": "markdown",
   "metadata": {},
   "source": [
    "3. Close(T) = Intercept + Signal(T) + Signal(T-1) + [Close(T-1) - Close(T-2)]"
   ]
  },
  {
   "cell_type": "code",
   "execution_count": 27,
   "metadata": {},
   "outputs": [],
   "source": [
    "y = np.array(data['Close'])[2:]\n",
    "x1 = np.array(data['Signal'])[2:].reshape(-1,1)\n",
    "x2 = np.array(data['Signal'])[1:-1].reshape(-1,1)\n",
    "x3 = np.array(data['Close'])[1:-1].reshape(-1,1)-np.array(data['Signal'])[:-2].reshape(-1,1)\n",
    "x = np.concatenate((x1,x2,x3),axis=1)\n",
    "\n",
    "res['TS(T-2)*']=reg_model(x,y)"
   ]
  },
  {
   "cell_type": "markdown",
   "metadata": {},
   "source": [
    "# Comparison of the results"
   ]
  },
  {
   "cell_type": "code",
   "execution_count": 28,
   "metadata": {},
   "outputs": [
    {
     "data": {
      "text/html": [
       "<div>\n",
       "<style scoped>\n",
       "    .dataframe tbody tr th:only-of-type {\n",
       "        vertical-align: middle;\n",
       "    }\n",
       "\n",
       "    .dataframe tbody tr th {\n",
       "        vertical-align: top;\n",
       "    }\n",
       "\n",
       "    .dataframe thead th {\n",
       "        text-align: right;\n",
       "    }\n",
       "</style>\n",
       "<table border=\"1\" class=\"dataframe\">\n",
       "  <thead>\n",
       "    <tr style=\"text-align: right;\">\n",
       "      <th></th>\n",
       "      <th>OLS</th>\n",
       "      <th>OLS-Poly2</th>\n",
       "      <th>OLS-Poly3</th>\n",
       "      <th>Sig,Open-Close</th>\n",
       "      <th>TS(T-1)</th>\n",
       "      <th>TS(T-2)</th>\n",
       "      <th>TS(T-2)*</th>\n",
       "    </tr>\n",
       "  </thead>\n",
       "  <tbody>\n",
       "    <tr>\n",
       "      <th>Training Score</th>\n",
       "      <td>0.899328</td>\n",
       "      <td>0.917690</td>\n",
       "      <td>0.917987</td>\n",
       "      <td>0.898230</td>\n",
       "      <td>0.994377</td>\n",
       "      <td>0.994621</td>\n",
       "      <td>0.992270</td>\n",
       "    </tr>\n",
       "    <tr>\n",
       "      <th>Cross Val Score</th>\n",
       "      <td>0.897022</td>\n",
       "      <td>0.914870</td>\n",
       "      <td>0.913681</td>\n",
       "      <td>0.894660</td>\n",
       "      <td>0.994201</td>\n",
       "      <td>0.994461</td>\n",
       "      <td>0.991959</td>\n",
       "    </tr>\n",
       "    <tr>\n",
       "      <th>Test Score</th>\n",
       "      <td>0.908022</td>\n",
       "      <td>0.923147</td>\n",
       "      <td>0.922986</td>\n",
       "      <td>0.909578</td>\n",
       "      <td>0.994117</td>\n",
       "      <td>0.993730</td>\n",
       "      <td>0.991036</td>\n",
       "    </tr>\n",
       "    <tr>\n",
       "      <th>Pred Dir Accuracy</th>\n",
       "      <td>0.475122</td>\n",
       "      <td>0.475122</td>\n",
       "      <td>0.475122</td>\n",
       "      <td>0.473633</td>\n",
       "      <td>0.485352</td>\n",
       "      <td>0.478006</td>\n",
       "      <td>0.477028</td>\n",
       "    </tr>\n",
       "    <tr>\n",
       "      <th>MAE</th>\n",
       "      <td>4.313130</td>\n",
       "      <td>3.962962</td>\n",
       "      <td>3.960450</td>\n",
       "      <td>4.323924</td>\n",
       "      <td>1.039149</td>\n",
       "      <td>1.036317</td>\n",
       "      <td>1.248715</td>\n",
       "    </tr>\n",
       "    <tr>\n",
       "      <th>MSE</th>\n",
       "      <td>33.134756</td>\n",
       "      <td>27.255578</td>\n",
       "      <td>27.200902</td>\n",
       "      <td>33.185884</td>\n",
       "      <td>1.923234</td>\n",
       "      <td>1.896165</td>\n",
       "      <td>2.720528</td>\n",
       "    </tr>\n",
       "  </tbody>\n",
       "</table>\n",
       "</div>"
      ],
      "text/plain": [
       "                         OLS  OLS-Poly2  OLS-Poly3  Sig,Open-Close   TS(T-1)  \\\n",
       "Training Score      0.899328   0.917690   0.917987        0.898230  0.994377   \n",
       "Cross Val Score     0.897022   0.914870   0.913681        0.894660  0.994201   \n",
       "Test Score          0.908022   0.923147   0.922986        0.909578  0.994117   \n",
       "Pred Dir Accuracy   0.475122   0.475122   0.475122        0.473633  0.485352   \n",
       "MAE                 4.313130   3.962962   3.960450        4.323924  1.039149   \n",
       "MSE                33.134756  27.255578  27.200902       33.185884  1.923234   \n",
       "\n",
       "                    TS(T-2)  TS(T-2)*  \n",
       "Training Score     0.994621  0.992270  \n",
       "Cross Val Score    0.994461  0.991959  \n",
       "Test Score         0.993730  0.991036  \n",
       "Pred Dir Accuracy  0.478006  0.477028  \n",
       "MAE                1.036317  1.248715  \n",
       "MSE                1.896165  2.720528  "
      ]
     },
     "execution_count": 28,
     "metadata": {},
     "output_type": "execute_result"
    }
   ],
   "source": [
    "res"
   ]
  },
  {
   "cell_type": "markdown",
   "metadata": {},
   "source": [
    "Including lag 1 price improve the prediction accuracy by a lot, indicated by the increased scores (R^2 socre) and reduced MAE and MSE."
   ]
  },
  {
   "cell_type": "markdown",
   "metadata": {},
   "source": [
    "# Conclusion"
   ]
  },
  {
   "cell_type": "markdown",
   "metadata": {},
   "source": [
    "**Effectiveness:**"
   ]
  },
  {
   "cell_type": "markdown",
   "metadata": {},
   "source": [
    "1. The Signal can give a pretty good estimation of the price level for some models  \n",
    "2. Only one column of Signal is given which speed up the decision making process so that we don't need to look at many metrics but one single series"
   ]
  },
  {
   "cell_type": "markdown",
   "metadata": {},
   "source": [
    "**Lack:**"
   ]
  },
  {
   "cell_type": "markdown",
   "metadata": {},
   "source": [
    "1. The signal performs poorly in estimating the direction of the prices changes, lower than 50% for the models I chooses (maybe other model can do better), but without more information, it is even worse than tossing a coin.\n",
    "2. Signals for some days at the end of the datasets are zeros, which is quite an issue as it is the unique product of the company, we can download market data from public source, but are paying for the \"Signals\"."
   ]
  }
 ],
 "metadata": {
  "kernelspec": {
   "display_name": "Python 3 (ipykernel)",
   "language": "python",
   "name": "python3"
  },
  "language_info": {
   "codemirror_mode": {
    "name": "ipython",
    "version": 3
   },
   "file_extension": ".py",
   "mimetype": "text/x-python",
   "name": "python",
   "nbconvert_exporter": "python",
   "pygments_lexer": "ipython3",
   "version": "3.8.8"
  }
 },
 "nbformat": 4,
 "nbformat_minor": 2
}
